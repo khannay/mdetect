{
 "cells": [
  {
   "attachments": {},
   "cell_type": "markdown",
   "metadata": {},
   "source": [
    "# Malware detection from PCAP Network Captures\n",
    "\n",
    "> This is a project to detect malware from PCAP network captures. "
   ]
  },
  {
   "cell_type": "code",
   "execution_count": null,
   "metadata": {
    "vscode": {
     "languageId": "python"
    }
   },
   "outputs": [],
   "source": [
    "%load_ext autoreload\n",
    "%autoreload 2"
   ]
  },
  {
   "cell_type": "code",
   "execution_count": null,
   "metadata": {
    "vscode": {
     "languageId": "python"
    }
   },
   "outputs": [],
   "source": [
    "#| default_exp core"
   ]
  },
  {
   "cell_type": "code",
   "execution_count": null,
   "metadata": {
    "vscode": {
     "languageId": "python"
    }
   },
   "outputs": [],
   "source": [
    "#| hide\n",
    "from nbdev.showdoc import *"
   ]
  },
  {
   "cell_type": "code",
   "execution_count": null,
   "metadata": {
    "vscode": {
     "languageId": "python"
    }
   },
   "outputs": [
    {
     "name": "stderr",
     "output_type": "stream",
     "text": [
      "WARNING: No IPv4 address found on anpi1 !\n",
      "WARNING: No IPv4 address found on anpi0 !\n",
      "WARNING: more No IPv4 address found on en3 !\n"
     ]
    }
   ],
   "source": [
    "#| export \n",
    "\n",
    "import pandas as pd\n",
    "import numpy as np\n",
    "from pathlib import Path\n",
    "from typing import List, Dict, Any, Optional, Union\n",
    "\n",
    "import ipaddress\n",
    "from collections import OrderedDict\n",
    "from datetime import datetime\n",
    "\n",
    "import netaddr\n",
    "import numpy as np\n",
    "import pandas as pd\n",
    "from scapy.all import *\n",
    "\n",
    "import joblib\n",
    "from fastcore.basics import patch \n",
    "import hashlib\n",
    "\n",
    "import mdetect"
   ]
  },
  {
   "attachments": {},
   "cell_type": "markdown",
   "metadata": {},
   "source": [
    "## Processing PCAP files\n",
    "\n",
    "The first step is to process the PCAP files and extract the features. The main library I am using for this is scapy, but I am going to create some helper functions to make it easier to extract the features I want. The starting point for this code is taken from the githib repo [netml](https://github.com/noise-lab/netml), although I have mofified it to suit this project. \n",
    "\n",
    "The overall technique I am employing in the notebook is translate the PCAP files into a set of sessions (flows), where a flow is defined by a 5-tuple (src IP, src port, dst IP, dst port, protocol). I am then extracting features from each flow, and then using these features to train a classifier. The classifier will then be used to predict whether a flow is malicious or not. Since an individual pcap file will usually be comprised of several flows, and extra step is required to combine the predictions for each flow into a single prediction for the pcap file. \n"
   ]
  },
  {
   "attachments": {},
   "cell_type": "markdown",
   "metadata": {},
   "source": [
    "The following sets up the data locations and creates some lists of files to process."
   ]
  },
  {
   "cell_type": "code",
   "execution_count": null,
   "metadata": {
    "vscode": {
     "languageId": "python"
    }
   },
   "outputs": [
    {
     "name": "stdout",
     "output_type": "stream",
     "text": [
      "Number of malware files: 8\n",
      "Number of benign files: 3\n"
     ]
    }
   ],
   "source": [
    "# Setup the training and validation dataset paths and create some lists of files.\n",
    "\n",
    "BASE_PATH = Path(mdetect.__path__[0]).parent\n",
    "\n",
    "DATA_PATH = BASE_PATH/ 'data'\n",
    "MPATH = DATA_PATH / 'malware'\n",
    "BPATH = DATA_PATH / 'benign'\n",
    "\n",
    "\n",
    "malware_files = list(MPATH.glob('**/*.pcap'))\n",
    "benign_files = list(BPATH.glob('**/*.pcap*'))\n",
    "\n",
    "print(f'Number of malware files: {len(malware_files)}')\n",
    "print(f'Number of benign files: {len(benign_files)}')"
   ]
  },
  {
   "cell_type": "code",
   "execution_count": null,
   "metadata": {
    "vscode": {
     "languageId": "python"
    }
   },
   "outputs": [],
   "source": [
    "#| export \n",
    "\n",
    "def _get_fid(pkt):\n",
    "    \"\"\"Extract fid (five-tuple) from a packet: only focus on IPv4\n",
    "    Parameters\n",
    "    ----------\n",
    "\n",
    "    Returns\n",
    "    -------\n",
    "        fid: five-tuple (IP src, IP dst, src port, dst port, protocol)\n",
    "    \"\"\"\n",
    "\n",
    "    if IP in pkt and TCP in pkt:\n",
    "        fid = (pkt[IP].src, pkt[IP].dst, pkt[TCP].sport, pkt[TCP].dport, 'TCP')\n",
    "    elif IP in pkt and UDP in pkt:\n",
    "        fid = (pkt[IP].src, pkt[IP].dst, pkt[UDP].sport, pkt[UDP].dport, 'UDP')\n",
    "    elif ICMP in pkt:\n",
    "        fid = ('', '', pkt[ICMP].sport, pkt[ICMP].dport, \"ICMP\")\n",
    "    else: \n",
    "        fid = ('', '', -1, -1, \"UNK\")\n",
    "\n",
    "    return fid\n",
    "\n",
    "def _get_frame_time(pkt):\n",
    "    return float(pkt.time)\n",
    "\n",
    "def flow_duration(pkts: List) -> float:\n",
    "    pkt_times = [float(pkt.time) for pkt in pkts]\n",
    "    flow_duration = max(pkt_times) - min(pkt_times)\n",
    "    return flow_duration\n",
    "    \n"
   ]
  },
  {
   "attachments": {},
   "cell_type": "markdown",
   "metadata": {},
   "source": [
    "The following defines the basic data structures for extracting flows from the PCAP files."
   ]
  },
  {
   "cell_type": "code",
   "execution_count": null,
   "metadata": {
    "vscode": {
     "languageId": "python"
    }
   },
   "outputs": [],
   "source": [
    "#| export \n",
    "\n",
    "\n",
    "class PacketFlows:\n",
    "    \n",
    "    def __init__(self, \n",
    "                 pcap_file: Path, \n",
    "                 interval: float = 0, \n",
    "                 q_interval: float = 0.90,\n",
    "                 min_pkts: int = 2, \n",
    "                 tcp_timeout: int = 600, \n",
    "                 udp_timeout: int = 600, \n",
    "                 verbose: int = 0):\n",
    "        \"\"\"\n",
    "        Parameters\n",
    "        ----------\n",
    "        pcap: Path or str\n",
    "            a pcap needed to processed.\n",
    "\n",
    "        min_pkts: int (default is 2)\n",
    "            the minimum number of packets of each flow is to control which flow should be kept\n",
    "            and which one should be discarded. The default value is 2, i.e., all the flows which have less than 2 packets\n",
    "            are discarded. It must be >= 2.\n",
    "\n",
    "        tcp_timeout: int (default is 600s)\n",
    "            a timeout is to split flow\n",
    "\n",
    "        ucp_timeout: int (default is 600s)\n",
    "            a timeout is to split flow\n",
    "\n",
    "        verbose: int (default is 1)\n",
    "            a print level is to control what information should be printed according to the given value.\n",
    "            The higher the value is, the more info is printed.\n",
    "\n",
    "        \"\"\"\n",
    "        self.min_pkts = min_pkts\n",
    "        self.tcp_timeout = tcp_timeout\n",
    "        self.udp_timeout = udp_timeout\n",
    "        self.verbose = verbose\n",
    "        self.pcap_file = str(pcap_file)\n",
    "        self.name = pcap_file.name\n",
    "        \n",
    "        # Seperate into seperate flows, not segmented by time\n",
    "        full_flow = self._pcap2flows()\n",
    "        # Get the time interval used to seperate flows by time segment\n",
    "        self.interval = self._fetch_interval(full_flow, interval, q_interval)\n",
    "        # Seperate into flows segmented by time, using the interval as the time segment\n",
    "        self.flows = self.flows2subflows(full_flow, self.interval)\n",
    "        \n",
    "    def _fetch_interval(self, \n",
    "                        fflow: OrderedDict,\n",
    "                        interval: float, \n",
    "                        q_interval: float) -> float:\n",
    "        if interval > 0:\n",
    "            return interval\n",
    "        else:\n",
    "            if q_interval > 0:\n",
    "                self.flow_durations = [flow_duration(pkts) for fid, pkts in fflow]\n",
    "                self.interval = self.split_interval(self.flow_durations, q_interval=q_interval)\n",
    "                return self.interval\n",
    "            else:\n",
    "                msg = f'q_interval must be in [0, 1]! Current q_interval is {q_interval}.'\n",
    "                raise ValueError(msg)\n",
    "            \n",
    "    def split_interval(self, \n",
    "                       flow_durations: List[float], \n",
    "                       q_interval: float =0.9):\n",
    "        interval = np.quantile(flow_durations, q=q_interval)\n",
    "        return interval\n",
    "        \n",
    "    def __getitem__(self, index: int):\n",
    "        return self.flows[index] \n",
    "    \n",
    "    def __len__(self):\n",
    "        return len(self.flows)   \n",
    "    \n",
    "    def __iter__(self):\n",
    "        return iter(self.flows)\n",
    "\n",
    "    def summary(self):\n",
    "        print(f'pcap_file: {self.pcap_file}')\n",
    "        print(\"Number of flows: \", len(self.flows))\n",
    "        print(\"Number of packets in each flow: \", [len(v[1]) for v in self.flows])\n",
    "        \n",
    "    @property\n",
    "    def src_ports(self) -> np.array:\n",
    "        return np.array([flow[0][2] for flow in self.flows])\n",
    "        \n",
    "    @property\n",
    "    def dst_ports(self) -> np.array:\n",
    "        return np.array([flow[0][3] for flow in self.flows])\n",
    "        \n",
    "    @property\n",
    "    def protocols(self) -> np.array:\n",
    "        return np.array([str(flow[0][4]) for flow in self.flows])\n",
    "\n",
    "    def _pcap2flows(self) -> OrderedDict:\n",
    "    \n",
    "        # store all extracted flows into a dictionary, whose key is flow id ('fid': five-tuple) and value is packtes\n",
    "        # that belongs to the flow.\n",
    "        flows = OrderedDict()\n",
    "        try:\n",
    "            # iteratively get each packet from the pcap\n",
    "            for i, pkt in enumerate(PcapReader(self.pcap_file)):\n",
    "                if (TCP in pkt) or (UDP in pkt):\n",
    "\n",
    "                    # this function treats bidirection flows as two sessions (hereafter, we use sessions\n",
    "                    # and flows interchangeably).\n",
    "                    fid = _get_fid(pkt)\n",
    "\n",
    "                    if fid not in flows.keys():\n",
    "                        flows[fid] = [pkt]\n",
    "                    else:\n",
    "                        flows[fid].append(pkt)\n",
    "                else:\n",
    "                    continue\n",
    "\n",
    "        except Exception as e:\n",
    "            msg = f'Parse PCAP error: {e}!'\n",
    "            raise RuntimeError(msg)\n",
    "\n",
    "        # split flows by TIMEOUT and discard flows that have less than \"min_pkts\" packets.\n",
    "        n_pkts = 0\n",
    "        new_flows = []  # store the preprocessed flows\n",
    "        for i, (fid, pkts) in enumerate(flows.items()):\n",
    "            n_pkts += len(pkts)\n",
    "            if len(pkts) < max(2, self.min_pkts):\n",
    "                # discard flows that have less than \"max(2, flow_pkts_thres)\" packets\n",
    "                continue\n",
    "            pkts = sorted(pkts, key=_get_frame_time, reverse=False)\n",
    "\n",
    "            # split flows by TIMEOUT\n",
    "            subflows = []\n",
    "            for j, pkt in enumerate(pkts):\n",
    "                pkt_time = _get_frame_time(pkt)\n",
    "                if j == 0:\n",
    "                    subflow_tmp = [pkt]\n",
    "                    split_flow = False  # if a flow is not split with interval, label it as False, otherwise, True\n",
    "                    continue\n",
    "                if ('TCP' in fid) or (TCP in pkt):\n",
    "                    # handle TCP packets, TCP is 6\n",
    "                    # a timeout (the idle time) is the duration between the previous pkt and the current one.\n",
    "                    if pkt_time - _get_frame_time(subflow_tmp[-1]) > self.tcp_timeout:\n",
    "                        # Note: here subflow_tmp will only have 1 packet\n",
    "                        subflows.append((fid, subflow_tmp))\n",
    "                        subflow_tmp = [pkt]  # create a new subflow and store the current packet as the first packet of it.\n",
    "                        split_flow = True\n",
    "                    else:\n",
    "                        subflow_tmp.append(pkt)\n",
    "                elif ('UDP' in fid) or UDP in pkt:\n",
    "                    # handle UDP packets, UDP is 17\n",
    "                    if pkt_time - _get_frame_time(subflow_tmp[-1]) > self.udp_timeout:\n",
    "                        subflows.append((fid, subflow_tmp))\n",
    "                        subflow_tmp = [pkt]\n",
    "                        split_flow = True\n",
    "                    else:\n",
    "                        subflow_tmp.append(pkt)\n",
    "                else:  # other protocols\n",
    "                    pass\n",
    "\n",
    "            # if the current flow is not split by TIMEOUT, then add it into subflows\n",
    "            if not split_flow:\n",
    "                subflows.append((fid, subflow_tmp))\n",
    "            else:\n",
    "                pass # discard the last subflow_tmp\n",
    "            \n",
    "            new_flows.extend(subflows)\n",
    "\n",
    "        new_flows = [(fid, pkts) for (fid, pkts) in new_flows if len(pkts) >= self.min_pkts]\n",
    "        return new_flows\n",
    "\n",
    "\n",
    "    def flows2subflows(self, \n",
    "                       full_flow: OrderedDict, \n",
    "                       interval: float,\n",
    "                       ) -> List:\n",
    "        \"\"\"Split flows to subflows by interval\n",
    "\n",
    "        Returns\n",
    "        -------\n",
    "        subflows: list\n",
    "            each of subflow has at least \"flow_ptks_thres\" packets\n",
    "        \"\"\"\n",
    "\n",
    "        new_flows = []  # store all subflows\n",
    "        for i, (fid, pkts) in enumerate(full_flow):\n",
    "            if (self.verbose > 3) and (i % 1000) == 0:\n",
    "                print(f'{i}th_flow: len(pkts): {len(pkts)}')\n",
    "\n",
    "            # Is it necessary to sort packets by arrival_times ?\n",
    "            pkts = sorted(pkts, key=_get_frame_time, reverse=False)\n",
    "\n",
    "            subflows = []\n",
    "            # split flows by interval\n",
    "            for j, pkt in enumerate(pkts):\n",
    "                pkt_time = _get_frame_time(pkt)\n",
    "                if j == 0:\n",
    "                    subflow_tmp_start_time = pkt_time\n",
    "                    subflow_tmp = [(subflow_tmp_start_time, pkt)]\n",
    "                    split_flow = False  # if a flow is not split with interval, label it as False, otherwise, True\n",
    "                    continue\n",
    "\n",
    "                if ('TCP' in fid) or (TCP in pkt):\n",
    "                    # handle TCP packets, TCP is 6\n",
    "                    # a timeout (the idle time) is the duration between the previous pkt and the current one.\n",
    "                    if pkt_time - subflow_tmp[-1][0] > interval:\n",
    "                        subflows.append((fid, subflow_tmp))\n",
    "                        subflow_tmp_start_time += int((pkt_time - subflow_tmp_start_time) // interval) * interval\n",
    "                        # create a new subflow and store \"subflow_tmp_start_time\" as the time. Here, it will has a tiny\n",
    "                        # difference of packet time between \"subflow_tmp_start_time\" and the current packet time.\n",
    "                        subflow_tmp = [(subflow_tmp_start_time, pkt)]\n",
    "                        split_flow = True\n",
    "                    else:\n",
    "                        subflow_tmp.append((pkt_time, pkt))\n",
    "\n",
    "                elif ('UDP' in fid) or UDP in pkt:\n",
    "                    # handle UDP packets, UDP is 17\n",
    "                    if pkt_time - subflow_tmp[-1][0] > interval:\n",
    "                        subflows.append((fid, subflow_tmp))\n",
    "                        subflow_tmp_start_time += int((pkt_time - subflow_tmp_start_time) // interval) * interval\n",
    "                        subflow_tmp = [(subflow_tmp_start_time, pkt)]\n",
    "                        split_flow = True\n",
    "                    else:\n",
    "                        subflow_tmp.append((pkt_time, pkt))\n",
    "                else:  # it's not possible, because flows only include TCP and UDP flows\n",
    "                    pass\n",
    "\n",
    "            # if the current flow is not split by interval, then add it into subflows\n",
    "            if not split_flow:\n",
    "                subflows.append([fid, subflow_tmp])\n",
    "            else:\n",
    "                # discard the last subflow_tmp\n",
    "                pass\n",
    "\n",
    "            new_flows.extend(subflows)\n",
    "\n",
    "        # sort all flows by packet arrival time, each flow must have at least two packets\n",
    "        subflows = []\n",
    "        for fid, subflow_tmp in new_flows:\n",
    "            if len(subflow_tmp) < max(2, self.min_pkts):\n",
    "                continue\n",
    "            subflows.append((fid, [pkt for pkt_time, pkt in subflow_tmp]))\n",
    "\n",
    "        new_flows = subflows\n",
    "        if self.verbose > 1:\n",
    "            print(f'After splitting flows, the number of subflows: {len(new_flows)} and each of them has at least '\n",
    "                f'{self.min_pkts} packets.')\n",
    "\n",
    "        return new_flows\n",
    "    \n",
    "    def apply(self, func) -> np.array:\n",
    "        \"\"\"Apply func to each flow in flows.\n",
    "\n",
    "        Returns:\n",
    "          np.array of the results of func applied to each flow in flows.\n",
    "        \"\"\"\n",
    "        \n",
    "        return np.array(map(func, self.flows))\n",
    "    \n",
    "    \n",
    "    @staticmethod \n",
    "    def iter_pcap_dict(pcap_file: str) -> Iterator:\n",
    "        \"\"\"Stream extracted dict mappings from PCAP file.\n",
    "\n",
    "        Requires:\n",
    "          self.pcap_file: string filepath of PCAP file\n",
    "\n",
    "        Returns:\n",
    "          Iterator of dicts with one dict per packet in pcap file.\n",
    "\n",
    "            The dicts have the following key/value pairs:\n",
    "\n",
    "              \"time\"      : time the packet was receieved in seconds since epoch\n",
    "              \"datetime\"  : time the packet was received as a datetime object\n",
    "              \"length\"    : length of packet in bytes\n",
    "              \"mac_src\"   : source MAC address\n",
    "              \"mac_dst\"   : destination MAC address\n",
    "              \"ip_src\"    : source IP address\n",
    "              \"ip_dst\"    : destination IP address\n",
    "              \"protocol\"  : 'TCP', 'UDP', 'ICMP', or None\n",
    "              \"port_src\"  : source port\n",
    "              \"port_dst\"  : destination port\n",
    "              \"is_dns\"    : True if packet is DNS packet, else False\n",
    "              \"dns_query\" : string DNS query\n",
    "              \"dns_resp\"  : string DNS response\n",
    "\n",
    "        \"\"\"\n",
    "        with PcapReader(pcap_file) as pcap_reader:\n",
    "            for pkt in pcap_reader:\n",
    "                if Ether not in pkt:\n",
    "                    continue\n",
    "\n",
    "                pkt_dict = {\n",
    "                    'time': pkt.time,\n",
    "                    'datetime': datetime.fromtimestamp(int(pkt.time)),\n",
    "                    'length': len(pkt),\n",
    "                    'mac_dst': pkt[Ether].dst,\n",
    "                    'mac_src': pkt[Ether].src,\n",
    "                    'ip_dst': None,\n",
    "                    'ip_src': None,\n",
    "                    'protocol': None,\n",
    "                    'port_dst': None,\n",
    "                    'port_src': None,\n",
    "                    'is_dns': False,\n",
    "                    'dns_query': None,\n",
    "                    'dns_resp': None,\n",
    "                }\n",
    "\n",
    "                if IP in pkt:\n",
    "                    pkt_dict['ip_dst'] = pkt[IP].dst\n",
    "                    pkt_dict['ip_src'] = pkt[IP].src\n",
    "\n",
    "                if TCP in pkt:\n",
    "                    pkt_dict['port_dst'] = pkt[TCP].dport\n",
    "                    pkt_dict['port_src'] = pkt[TCP].sport\n",
    "                    pkt_dict['protocol'] = 'TCP'\n",
    "                elif UDP in pkt:\n",
    "                    pkt_dict['port_dst'] = pkt[UDP].dport\n",
    "                    pkt_dict['port_src'] = pkt[UDP].sport\n",
    "                    pkt_dict['protocol'] = 'UDP'\n",
    "                elif ICMP in pkt:\n",
    "                    pkt_dict['protocol'] = 'ICMP'\n",
    "\n",
    "                try:\n",
    "                    if (dnsqr := pkt.getlayer(DNSQR)) is not None:\n",
    "                        pkt_dict.update(\n",
    "                            is_dns=True,\n",
    "                            dns_query=(\n",
    "                                dnsqr.qname.decode('utf-8')\n",
    "                                if isinstance(dnsqr.qname, bytes)\n",
    "                                else dnsqr.qname,\n",
    "                            )\n",
    "                        )\n",
    "\n",
    "                    if (dnsrr := pkt.getlayer(DNSRR)) is not None:\n",
    "                        pkt_dict.update(\n",
    "                            is_dns=True,\n",
    "                            dns_resp=(\n",
    "                                dnsrr.rrname.decode('utf-8')\n",
    "                                if isinstance(dnsrr.rrname, bytes)\n",
    "                                else dnsrr.rrname,\n",
    "                            )\n",
    "                        )\n",
    "                except UnicodeDecodeError:\n",
    "                    print(\"Decode error with {pkt.summary()}\")\n",
    "\n",
    "                yield pkt_dict\n",
    "\n",
    "    @staticmethod\n",
    "    def pcap2pandas(pcap_file: str or Path) -> pd.DataFrame:\n",
    "        \"\"\"Parse PCAP file into pandas DataFrame.\n",
    "\n",
    "        Requires:\n",
    "            self.pcap_file: string filepath of PCAP file\n",
    "\n",
    "        Returns:\n",
    "          DataFrame with one packet per row.\n",
    "            column names are the keys from pcap_to_dict plus\n",
    "            'ip_dst_int', 'ip_src_int', 'mac_dst_int', 'mac_dst_int'\n",
    "\n",
    "        \"\"\"\n",
    "        df = pd.DataFrame(PacketFlows.iter_pcap_dict(str(pcap_file)))\n",
    "\n",
    "        df['datetime'] = pd.to_datetime(df['datetime'])\n",
    "\n",
    "        df['ip_dst_int'] = df['ip_dst'].apply(\n",
    "            lambda x: None if x is None else int(ipaddress.ip_address(x)))\n",
    "\n",
    "        df['ip_src_int'] = df['ip_src'].apply(\n",
    "            lambda x: None if x is None else int(ipaddress.ip_address(x)))\n",
    "\n",
    "        df['mac_dst_int'] = df['mac_dst'].apply(\n",
    "            lambda x: None if x is None else int(netaddr.EUI(x)))\n",
    "\n",
    "        df['mac_src_int'] = df['mac_src'].apply(\n",
    "            lambda x: None if x is None else int(netaddr.EUI(x)))\n",
    "\n",
    "        df['time_normed'] = df['time'].apply(lambda x: x - df.iloc[0]['time'])\n",
    "\n",
    "        df.sort_index(axis=1, inplace=True)\n",
    "        \n",
    "        return df\n"
   ]
  },
  {
   "cell_type": "code",
   "execution_count": null,
   "metadata": {
    "vscode": {
     "languageId": "python"
    }
   },
   "outputs": [
    {
     "name": "stdout",
     "output_type": "stream",
     "text": [
      "pcap_file: /Users/khannay/work/cyber/mal_project/mdetect/data/malware/2023-01-05-Agent-Tesla-variant-traffic.pcap\n",
      "Number of flows:  26\n",
      "Number of packets in each flow:  [126, 490, 9, 13, 17, 23, 3, 3, 3, 13, 23, 15, 23, 11, 15, 3, 46, 51, 16, 10, 11, 29, 17, 17, 10, 13]\n"
     ]
    }
   ],
   "source": [
    "pf = PacketFlows(malware_files[2], min_pkts=2)\n",
    "pf.summary()"
   ]
  },
  {
   "cell_type": "code",
   "execution_count": null,
   "metadata": {
    "vscode": {
     "languageId": "python"
    }
   },
   "outputs": [
    {
     "data": {
      "text/html": [
       "<div>\n",
       "<style scoped>\n",
       "    .dataframe tbody tr th:only-of-type {\n",
       "        vertical-align: middle;\n",
       "    }\n",
       "\n",
       "    .dataframe tbody tr th {\n",
       "        vertical-align: top;\n",
       "    }\n",
       "\n",
       "    .dataframe thead th {\n",
       "        text-align: right;\n",
       "    }\n",
       "</style>\n",
       "<table border=\"1\" class=\"dataframe\">\n",
       "  <thead>\n",
       "    <tr style=\"text-align: right;\">\n",
       "      <th></th>\n",
       "      <th>datetime</th>\n",
       "      <th>dns_query</th>\n",
       "      <th>dns_resp</th>\n",
       "      <th>ip_dst</th>\n",
       "      <th>ip_dst_int</th>\n",
       "      <th>ip_src</th>\n",
       "      <th>ip_src_int</th>\n",
       "      <th>is_dns</th>\n",
       "      <th>length</th>\n",
       "      <th>mac_dst</th>\n",
       "      <th>mac_dst_int</th>\n",
       "      <th>mac_src</th>\n",
       "      <th>mac_src_int</th>\n",
       "      <th>port_dst</th>\n",
       "      <th>port_src</th>\n",
       "      <th>protocol</th>\n",
       "      <th>time</th>\n",
       "      <th>time_normed</th>\n",
       "    </tr>\n",
       "  </thead>\n",
       "  <tbody>\n",
       "    <tr>\n",
       "      <th>0</th>\n",
       "      <td>2023-01-05 16:51:00</td>\n",
       "      <td>None</td>\n",
       "      <td>None</td>\n",
       "      <td>None</td>\n",
       "      <td>NaN</td>\n",
       "      <td>None</td>\n",
       "      <td>NaN</td>\n",
       "      <td>False</td>\n",
       "      <td>42</td>\n",
       "      <td>ff:ff:ff:ff:ff:ff</td>\n",
       "      <td>281474976710655</td>\n",
       "      <td>00:14:78:37:9b:f6</td>\n",
       "      <td>87916256246</td>\n",
       "      <td>NaN</td>\n",
       "      <td>NaN</td>\n",
       "      <td>None</td>\n",
       "      <td>1672959060.081370</td>\n",
       "      <td>0.000000</td>\n",
       "    </tr>\n",
       "    <tr>\n",
       "      <th>1</th>\n",
       "      <td>2023-01-05 16:51:00</td>\n",
       "      <td>None</td>\n",
       "      <td>None</td>\n",
       "      <td>None</td>\n",
       "      <td>NaN</td>\n",
       "      <td>None</td>\n",
       "      <td>NaN</td>\n",
       "      <td>False</td>\n",
       "      <td>42</td>\n",
       "      <td>00:14:78:37:9b:f6</td>\n",
       "      <td>87916256246</td>\n",
       "      <td>bc:ea:fa:22:74:fb</td>\n",
       "      <td>207717404931323</td>\n",
       "      <td>NaN</td>\n",
       "      <td>NaN</td>\n",
       "      <td>None</td>\n",
       "      <td>1672959060.081505</td>\n",
       "      <td>0.000135</td>\n",
       "    </tr>\n",
       "    <tr>\n",
       "      <th>2</th>\n",
       "      <td>2023-01-05 16:51:00</td>\n",
       "      <td>(savory.com.bd.,)</td>\n",
       "      <td>None</td>\n",
       "      <td>192.168.1.1</td>\n",
       "      <td>3.232236e+09</td>\n",
       "      <td>192.168.1.27</td>\n",
       "      <td>3.232236e+09</td>\n",
       "      <td>True</td>\n",
       "      <td>73</td>\n",
       "      <td>00:14:78:37:9b:f6</td>\n",
       "      <td>87916256246</td>\n",
       "      <td>bc:ea:fa:22:74:fb</td>\n",
       "      <td>207717404931323</td>\n",
       "      <td>53.0</td>\n",
       "      <td>56742.0</td>\n",
       "      <td>UDP</td>\n",
       "      <td>1672959060.220437</td>\n",
       "      <td>0.139067</td>\n",
       "    </tr>\n",
       "    <tr>\n",
       "      <th>3</th>\n",
       "      <td>2023-01-05 16:51:00</td>\n",
       "      <td>(savory.com.bd.,)</td>\n",
       "      <td>(savory.com.bd.,)</td>\n",
       "      <td>192.168.1.27</td>\n",
       "      <td>3.232236e+09</td>\n",
       "      <td>192.168.1.1</td>\n",
       "      <td>3.232236e+09</td>\n",
       "      <td>True</td>\n",
       "      <td>89</td>\n",
       "      <td>bc:ea:fa:22:74:fb</td>\n",
       "      <td>207717404931323</td>\n",
       "      <td>00:14:78:37:9b:f6</td>\n",
       "      <td>87916256246</td>\n",
       "      <td>56742.0</td>\n",
       "      <td>53.0</td>\n",
       "      <td>UDP</td>\n",
       "      <td>1672959060.238688</td>\n",
       "      <td>0.157318</td>\n",
       "    </tr>\n",
       "    <tr>\n",
       "      <th>4</th>\n",
       "      <td>2023-01-05 16:51:00</td>\n",
       "      <td>None</td>\n",
       "      <td>None</td>\n",
       "      <td>45.56.99.101</td>\n",
       "      <td>7.586702e+08</td>\n",
       "      <td>192.168.1.27</td>\n",
       "      <td>3.232236e+09</td>\n",
       "      <td>False</td>\n",
       "      <td>66</td>\n",
       "      <td>00:14:78:37:9b:f6</td>\n",
       "      <td>87916256246</td>\n",
       "      <td>bc:ea:fa:22:74:fb</td>\n",
       "      <td>207717404931323</td>\n",
       "      <td>80.0</td>\n",
       "      <td>51952.0</td>\n",
       "      <td>TCP</td>\n",
       "      <td>1672959060.243743</td>\n",
       "      <td>0.162373</td>\n",
       "    </tr>\n",
       "  </tbody>\n",
       "</table>\n",
       "</div>"
      ],
      "text/plain": [
       "             datetime          dns_query           dns_resp        ip_dst  \\\n",
       "0 2023-01-05 16:51:00               None               None          None   \n",
       "1 2023-01-05 16:51:00               None               None          None   \n",
       "2 2023-01-05 16:51:00  (savory.com.bd.,)               None   192.168.1.1   \n",
       "3 2023-01-05 16:51:00  (savory.com.bd.,)  (savory.com.bd.,)  192.168.1.27   \n",
       "4 2023-01-05 16:51:00               None               None  45.56.99.101   \n",
       "\n",
       "     ip_dst_int        ip_src    ip_src_int  is_dns  length  \\\n",
       "0           NaN          None           NaN   False      42   \n",
       "1           NaN          None           NaN   False      42   \n",
       "2  3.232236e+09  192.168.1.27  3.232236e+09    True      73   \n",
       "3  3.232236e+09   192.168.1.1  3.232236e+09    True      89   \n",
       "4  7.586702e+08  192.168.1.27  3.232236e+09   False      66   \n",
       "\n",
       "             mac_dst      mac_dst_int            mac_src      mac_src_int  \\\n",
       "0  ff:ff:ff:ff:ff:ff  281474976710655  00:14:78:37:9b:f6      87916256246   \n",
       "1  00:14:78:37:9b:f6      87916256246  bc:ea:fa:22:74:fb  207717404931323   \n",
       "2  00:14:78:37:9b:f6      87916256246  bc:ea:fa:22:74:fb  207717404931323   \n",
       "3  bc:ea:fa:22:74:fb  207717404931323  00:14:78:37:9b:f6      87916256246   \n",
       "4  00:14:78:37:9b:f6      87916256246  bc:ea:fa:22:74:fb  207717404931323   \n",
       "\n",
       "   port_dst  port_src protocol               time time_normed  \n",
       "0       NaN       NaN     None  1672959060.081370    0.000000  \n",
       "1       NaN       NaN     None  1672959060.081505    0.000135  \n",
       "2      53.0   56742.0      UDP  1672959060.220437    0.139067  \n",
       "3   56742.0      53.0      UDP  1672959060.238688    0.157318  \n",
       "4      80.0   51952.0      TCP  1672959060.243743    0.162373  "
      ]
     },
     "execution_count": null,
     "metadata": {},
     "output_type": "execute_result"
    }
   ],
   "source": [
    "pf_df = PacketFlows.pcap2pandas(malware_files[2])\n",
    "pf_df.head()"
   ]
  },
  {
   "attachments": {},
   "cell_type": "markdown",
   "metadata": {},
   "source": [
    "Now we can start adding functions to extract features from the flows. The first function records the TCP flags that are set in the flow, by counting the number of packets with each flag set. This creates a vector of 8 features, one for each flag. The idea is that this gives a way of distinguishing between different types of TCP connections.\n",
    "\n",
    "I am making use of the `patch` decorator from the fastcore library (fastai). This just allows me to add a new method to the Flow class, without having to modify the original class definition. "
   ]
  },
  {
   "cell_type": "code",
   "execution_count": null,
   "metadata": {
    "vscode": {
     "languageId": "python"
    }
   },
   "outputs": [],
   "source": [
    "#| export \n",
    "\n",
    "FLAG_NAMES = ['FIN', 'SYN', 'RST', 'PSH', 'ACK', 'URG', 'ECE', 'CWR']\n",
    "\n",
    "def _parse_tcp_flgs(tcp_flgs: List[str]) -> np.ndarray:\n",
    "    \n",
    "    flgs = {\n",
    "        'F': 0,\n",
    "        'S': 1,\n",
    "        'R': 2,\n",
    "        'P': 3,\n",
    "        'A': 4,\n",
    "        'U': 5,\n",
    "        'E': 6,\n",
    "        'C': 7,\n",
    "    }\n",
    "\n",
    "    flg_counts = np.zeros(8)\n",
    "    for flg in tcp_flgs:\n",
    "        if flg in flgs.keys():\n",
    "            flg_counts[flgs[flg]] += 1\n",
    "\n",
    "    return flg_counts\n",
    "\n",
    "@patch \n",
    "def header_features(self: PacketFlows) -> np.ndarray:\n",
    "\n",
    "    features = []\n",
    "    for fid, pkts in self.flows:\n",
    "        flgs_lst = np.zeros(8)  # 8 TCP flags\n",
    "        header_features = []\n",
    "        for i, pkt in enumerate(pkts):\n",
    "            if not hasattr(pkt.payload, 'proto'):\n",
    "                continue\n",
    "            if pkt.payload.proto == 6:  # tcp\n",
    "                flgs_lst += _parse_tcp_flgs(pkt.payload.payload.flags) # parses tcp.flgs\n",
    "            # TODO: figure out this ttl part\n",
    "            #header_features.append(pkt.payload.ttl)\n",
    "        features.append(flgs_lst)\n",
    "\n",
    "    return np.array(features)\n",
    "\n"
   ]
  },
  {
   "attachments": {},
   "cell_type": "markdown",
   "metadata": {},
   "source": [
    "Quick visual of the TCP flags aggregated across each pcap capture."
   ]
  },
  {
   "cell_type": "code",
   "execution_count": null,
   "metadata": {
    "vscode": {
     "languageId": "python"
    }
   },
   "outputs": [
    {
     "data": {
      "image/png": "[encoded data removed]",
      "text/plain": [
       "<Figure size 640x480 with 2 Axes>"
      ]
     },
     "metadata": {},
     "output_type": "display_data"
    }
   ],
   "source": [
    "\n",
    "\n",
    "\n",
    "flags_total = np.zeros((len(malware_files) + len(benign_files), len(FLAG_NAMES)))\n",
    "\n",
    "for (idx, pcap) in enumerate(malware_files + benign_files):\n",
    "    pf = PacketFlows(pcap, min_pkts=2, verbose=0)\n",
    "    hf = pf.header_features()\n",
    "    flags_total[idx] = np.sum(hf, axis=0)\n",
    "    flags_total[idx] /= np.sum(flags_total[idx]) # normalize \n",
    "    \n",
    "flags_total = np.array(flags_total)\n",
    "fig, ax = plt.subplots()\n",
    "im = ax.imshow(flags_total, cmap='RdYlGn', aspect='auto')\n",
    "ax.set_yticks(np.arange(flags_total.shape[0]))\n",
    "ax.set_yticklabels(['m' for _ in range(len(malware_files))] + ['b' for _ in range(len(benign_files))]);\n",
    "ax.set_xticks(np.arange(len(FLAG_NAMES)))\n",
    "ax.set_xticklabels(FLAG_NAMES);\n",
    "ax.set_title('TCP Flags Total in Each PCAP File')\n",
    "ax.set_xlabel('TCP Flags')\n",
    "ax.set_ylabel('Malware (m) or benign (b)')\n",
    "\n",
    "fig.colorbar(im, ax=ax, orientation='horizontal');\n"
   ]
  },
  {
   "attachments": {},
   "cell_type": "markdown",
   "metadata": {},
   "source": [
    "This is a function that can be used to pull out any plain text http requests like a 'GET' or 'POST' request. This didn't end up being used in the final model, but I left it in here for reference."
   ]
  },
  {
   "cell_type": "code",
   "execution_count": null,
   "metadata": {
    "vscode": {
     "languageId": "python"
    }
   },
   "outputs": [],
   "source": [
    "#| export\n",
    "\n",
    "@patch \n",
    "def count_http_raw_occurances(self: PacketFlows, \n",
    "                              filter: bytes) -> np.ndarray:\n",
    "    \n",
    "    def http_filter(packet, filter):\n",
    "       return (TCP in packet and Raw in packet and bytes(packet[Raw]).startswith(filter))\n",
    "    \n",
    "    found = np.zeros(len(self.flows))\n",
    "    counter = 0 \n",
    "    for fid, pkts in self.flows:\n",
    "        for i, pkt in enumerate(pkts):\n",
    "            if http_filter(pkt, filter = filter):\n",
    "                found[counter] += 1\n",
    "        counter += 1\n",
    "    return found\n",
    "\n"
   ]
  },
  {
   "attachments": {},
   "cell_type": "markdown",
   "metadata": {},
   "source": [
    "Example usage for the http request function."
   ]
  },
  {
   "cell_type": "code",
   "execution_count": null,
   "metadata": {
    "vscode": {
     "languageId": "python"
    }
   },
   "outputs": [
    {
     "data": {
      "text/plain": [
       "array([0., 0., 0., 0., 0., 0., 0., 0., 0., 0., 0., 1., 0., 1., 0., 0., 0.,\n",
       "       0., 0., 0., 0., 0., 0., 0., 0., 0., 0., 0., 0., 0., 0., 0., 0., 0.,\n",
       "       0., 0., 0., 0., 0., 0., 0., 0., 0., 0., 0., 0., 0., 0., 0., 0., 0.,\n",
       "       0., 0., 0., 0., 0., 0., 0., 0., 0., 0., 0., 0., 0., 0., 0., 0., 0.,\n",
       "       0., 0., 0., 0., 0., 0., 0., 0., 0., 0., 0., 0., 0., 0., 0., 0., 0.,\n",
       "       0., 0., 0., 0., 0., 0., 0., 0., 0., 0., 0., 0., 0., 0., 0., 0., 0.,\n",
       "       0., 0., 0., 0., 0., 0., 0., 0., 0., 0., 0., 0., 0., 0., 0., 0., 0.,\n",
       "       0., 0., 0., 0., 0., 0., 0., 0., 0., 0., 0., 0., 0., 0., 0., 0., 0.,\n",
       "       0., 0., 0., 0., 0., 0., 0., 0., 0., 0., 0., 0., 0., 0., 0., 0., 0.,\n",
       "       0., 0., 0., 0., 0., 0., 0., 0., 0., 0., 0., 0., 0., 0., 0., 0., 0.,\n",
       "       0., 0., 0., 0., 0., 0., 0., 0., 0., 0., 0., 0., 0., 0., 0., 0., 0.,\n",
       "       0., 0., 0., 0., 0., 0., 0., 0., 0., 0., 0., 0., 0., 0., 0., 0., 0.,\n",
       "       0., 0., 0., 0., 0., 1., 0., 2., 0., 1., 1., 0., 0., 0., 0., 0., 0.,\n",
       "       0., 0., 0., 0., 0., 0., 1., 1., 0., 0., 0., 0., 1., 1., 1., 0., 0.,\n",
       "       0.])"
      ]
     },
     "execution_count": null,
     "metadata": {},
     "output_type": "execute_result"
    }
   ],
   "source": [
    "pf.count_http_raw_occurances(filter = b'GET') # find flows with GET requests"
   ]
  },
  {
   "attachments": {},
   "cell_type": "markdown",
   "metadata": {},
   "source": [
    "In this next section we define some additional functions for computing features from the flows. These are based on the features used in the [netml]. "
   ]
  },
  {
   "cell_type": "code",
   "execution_count": null,
   "metadata": {
    "vscode": {
     "languageId": "python"
    }
   },
   "outputs": [],
   "source": [
    "#| export\n",
    "\n",
    "\n",
    "@patch \n",
    "def IAT_features(self: PacketFlows) -> List[np.array]:\n",
    "    \"\"\"Extract interarrival times (IAT) features from flows.\n",
    "    Parameters\n",
    "    ----------\n",
    "\n",
    "    Returns\n",
    "    -------\n",
    "    features: a numpy array\n",
    "        iats\n",
    "    \"\"\"\n",
    "    \n",
    "    features = []\n",
    "    for fid, pkts in self.flows:\n",
    "        pkt_times = [_get_frame_time(pkt) for pkt in pkts]\n",
    "        iats = np.diff(pkt_times)\n",
    "        features.append(iats)\n",
    "    return features\n",
    "\n",
    "@patch\n",
    "def size_features(self: PacketFlows) -> List[np.array]:\n",
    "    \"\"\"Extract packet sizes features from flows\n",
    "    Parameters\n",
    "    ----------\n",
    "\n",
    "    Returns\n",
    "    -------\n",
    "    features: a list\n",
    "        sizes\n",
    "    \"\"\"\n",
    "\n",
    "    features = []\n",
    "    for fid, pkts in self.flows:\n",
    "        sizes = [len(pkt) for pkt in pkts]\n",
    "        features.append(sizes)\n",
    "\n",
    "    return np.array(features)\n",
    "\n",
    "\n",
    "@patch\n",
    "def stats_features(flows: PacketFlows) -> np.array:\n",
    "    \"\"\"get basic stats features, which includes duration, pkts_rate, bytes_rate, mean,\n",
    "    median, std, q1, q2, q3, min, and max.\n",
    "\n",
    "    Returns\n",
    "    -------\n",
    "    features: a list\n",
    "        stats\n",
    "    \"\"\"\n",
    "\n",
    "    features = []\n",
    "    for _, pkts in flows:\n",
    "        sizes = [len(pkt) for pkt in pkts]\n",
    "\n",
    "        sub_duration = flow_duration(pkts)\n",
    "        num_pkts = len(sizes)  # number of packets in the flow\n",
    "        num_bytes = sum(sizes)  # all bytes in sub_duration  sum(len(pkt))\n",
    "        if sub_duration == 0:\n",
    "            pkts_rate = 0.0\n",
    "            bytes_rate = 0.0\n",
    "        else:\n",
    "            pkts_rate = num_pkts / sub_duration  \n",
    "            bytes_rate = num_bytes / sub_duration\n",
    "\n",
    "        q1, q2, q3 = np.quantile(sizes, q=[0.25, 0.5, 0.75])  # q should be [0,1] and q2 is np.median(data)\n",
    "        base_features = [sub_duration, pkts_rate, bytes_rate, np.mean(sizes), np.std(sizes),\n",
    "                         q1, q2, q3, np.min(sizes), np.max(sizes), num_pkts, num_bytes]\n",
    "\n",
    "        features.append(base_features)\n",
    "\n",
    "    return np.array(features)\n",
    "\n",
    "@patch \n",
    "def stats_features_names(self: PacketFlows) -> List[str]:\n",
    "    return ['duration', \n",
    "            'pkts_rate', \n",
    "            'bytes_rate', \n",
    "            'mean_size', \n",
    "            'std_sizes', \n",
    "            'q1_sizes', \n",
    "            'q2_sizes', \n",
    "            'q3_sizes', \n",
    "            'min_sizes', \n",
    "            'max_sizes', \n",
    "            'num_pkts', \n",
    "            'num_bytes']\n"
   ]
  },
  {
   "attachments": {},
   "cell_type": "markdown",
   "metadata": {},
   "source": [
    "## Exploratory Data Analysis\n",
    "\n",
    "We begin by loading in the data and trying to gain some understanding of the data."
   ]
  },
  {
   "cell_type": "code",
   "execution_count": null,
   "metadata": {
    "vscode": {
     "languageId": "python"
    }
   },
   "outputs": [],
   "source": [
    "def load_malware_pcap() -> pd.DataFrame:\n",
    "    df = pd.DataFrame()\n",
    "    for file in malware_files:\n",
    "        pdf = PacketFlows.pcap2pandas(file)\n",
    "        pdf['capture'] = file.name\n",
    "        pdf['label'] = 1.0\n",
    "        df = pd.concat([df,pdf], ignore_index=True)\n",
    "    return df\n",
    "\n",
    "def load_benign_pcap() -> pd.DataFrame:\n",
    "    df = pd.DataFrame()\n",
    "    for file in benign_files:\n",
    "        pdf = PacketFlows.pcap2pandas(file)\n",
    "        pdf['capture'] = file.name\n",
    "        pdf['label'] = 0.0\n",
    "        df = pd.concat([df,pdf], ignore_index=True)\n",
    "    return df\n"
   ]
  },
  {
   "cell_type": "code",
   "execution_count": null,
   "metadata": {
    "vscode": {
     "languageId": "python"
    }
   },
   "outputs": [
    {
     "name": "stdout",
     "output_type": "stream",
     "text": [
      "Decode error with {pkt.summary()}\n",
      "Malware data shape: (167242, 20), and benign data shape: (61059, 20)\n"
     ]
    }
   ],
   "source": [
    "# Load the data into Pandas DataFrames for quick analysis.\n",
    "mdata = load_malware_pcap()\n",
    "bdata = load_benign_pcap()\n",
    "\n",
    "print(f\"Malware data shape: {mdata.shape}, and benign data shape: {bdata.shape}\")"
   ]
  },
  {
   "cell_type": "code",
   "execution_count": null,
   "metadata": {
    "vscode": {
     "languageId": "python"
    }
   },
   "outputs": [
    {
     "data": {
      "text/plain": [
       "2023-03-07-Emotet-epoch4-infection-with-spambot-traffic-carved.pcap           0.451723\n",
       "2023-01-16-IcedID-infection-with-Backonnect-and-VNC-and-Cobalt-Strike.pcap    0.150453\n",
       "2023-03-18-Emotet-E5-infection-traffic.pcap                                   0.118959\n",
       "2023-04-13-MetaStealer-C2-traffic.pcap                                        0.118702\n",
       "2022-09-21-Astaroth-Guildma-infection.pcap                                    0.080901\n",
       "2022-12-07-Bumblebee-infection-with-Cobalt-Strike.pcap                        0.039344\n",
       "2022-01-04-Remcos-RAT-infection-traffic.pcap                                  0.033646\n",
       "2023-01-05-Agent-Tesla-variant-traffic.pcap                                   0.006272\n",
       "Name: capture, dtype: float64"
      ]
     },
     "execution_count": null,
     "metadata": {},
     "output_type": "execute_result"
    }
   ],
   "source": [
    "mdata.capture.value_counts(normalize=True)"
   ]
  },
  {
   "cell_type": "code",
   "execution_count": null,
   "metadata": {
    "vscode": {
     "languageId": "python"
    }
   },
   "outputs": [
    {
     "data": {
      "text/plain": [
       "TCP     0.989466\n",
       "UDP     0.009907\n",
       "ICMP    0.000627\n",
       "Name: protocol, dtype: float64"
      ]
     },
     "execution_count": null,
     "metadata": {},
     "output_type": "execute_result"
    }
   ],
   "source": [
    "mdata.protocol.value_counts(normalize=True)"
   ]
  },
  {
   "cell_type": "code",
   "execution_count": null,
   "metadata": {
    "vscode": {
     "languageId": "python"
    }
   },
   "outputs": [
    {
     "data": {
      "text/plain": [
       "TCP     0.570188\n",
       "UDP     0.383077\n",
       "ICMP    0.046735\n",
       "Name: protocol, dtype: float64"
      ]
     },
     "execution_count": null,
     "metadata": {},
     "output_type": "execute_result"
    }
   ],
   "source": [
    "bdata.protocol.value_counts(normalize=True)"
   ]
  },
  {
   "cell_type": "code",
   "execution_count": null,
   "metadata": {
    "vscode": {
     "languageId": "python"
    }
   },
   "outputs": [
    {
     "data": {
      "text/html": [
       "<div>\n",
       "<style scoped>\n",
       "    .dataframe tbody tr th:only-of-type {\n",
       "        vertical-align: middle;\n",
       "    }\n",
       "\n",
       "    .dataframe tbody tr th {\n",
       "        vertical-align: top;\n",
       "    }\n",
       "\n",
       "    .dataframe thead th {\n",
       "        text-align: right;\n",
       "    }\n",
       "</style>\n",
       "<table border=\"1\" class=\"dataframe\">\n",
       "  <thead>\n",
       "    <tr style=\"text-align: right;\">\n",
       "      <th></th>\n",
       "      <th>capture</th>\n",
       "      <th>protocol</th>\n",
       "      <th>Counts</th>\n",
       "    </tr>\n",
       "  </thead>\n",
       "  <tbody>\n",
       "    <tr>\n",
       "      <th>0</th>\n",
       "      <td>2022-01-04-Remcos-RAT-infection-traffic.pcap</td>\n",
       "      <td>TCP</td>\n",
       "      <td>5621</td>\n",
       "    </tr>\n",
       "    <tr>\n",
       "      <th>1</th>\n",
       "      <td>2022-01-04-Remcos-RAT-infection-traffic.pcap</td>\n",
       "      <td>UDP</td>\n",
       "      <td>6</td>\n",
       "    </tr>\n",
       "    <tr>\n",
       "      <th>2</th>\n",
       "      <td>2022-09-21-Astaroth-Guildma-infection.pcap</td>\n",
       "      <td>TCP</td>\n",
       "      <td>13232</td>\n",
       "    </tr>\n",
       "    <tr>\n",
       "      <th>3</th>\n",
       "      <td>2022-09-21-Astaroth-Guildma-infection.pcap</td>\n",
       "      <td>UDP</td>\n",
       "      <td>243</td>\n",
       "    </tr>\n",
       "    <tr>\n",
       "      <th>4</th>\n",
       "      <td>2022-12-07-Bumblebee-infection-with-Cobalt-Str...</td>\n",
       "      <td>TCP</td>\n",
       "      <td>6209</td>\n",
       "    </tr>\n",
       "    <tr>\n",
       "      <th>5</th>\n",
       "      <td>2022-12-07-Bumblebee-infection-with-Cobalt-Str...</td>\n",
       "      <td>UDP</td>\n",
       "      <td>249</td>\n",
       "    </tr>\n",
       "    <tr>\n",
       "      <th>6</th>\n",
       "      <td>2023-01-05-Agent-Tesla-variant-traffic.pcap</td>\n",
       "      <td>TCP</td>\n",
       "      <td>998</td>\n",
       "    </tr>\n",
       "    <tr>\n",
       "      <th>7</th>\n",
       "      <td>2023-01-05-Agent-Tesla-variant-traffic.pcap</td>\n",
       "      <td>UDP</td>\n",
       "      <td>41</td>\n",
       "    </tr>\n",
       "    <tr>\n",
       "      <th>8</th>\n",
       "      <td>2023-01-16-IcedID-infection-with-Backonnect-an...</td>\n",
       "      <td>TCP</td>\n",
       "      <td>24970</td>\n",
       "    </tr>\n",
       "    <tr>\n",
       "      <th>9</th>\n",
       "      <td>2023-01-16-IcedID-infection-with-Backonnect-an...</td>\n",
       "      <td>UDP</td>\n",
       "      <td>78</td>\n",
       "    </tr>\n",
       "    <tr>\n",
       "      <th>10</th>\n",
       "      <td>2023-03-07-Emotet-epoch4-infection-with-spambo...</td>\n",
       "      <td>TCP</td>\n",
       "      <td>75225</td>\n",
       "    </tr>\n",
       "    <tr>\n",
       "      <th>11</th>\n",
       "      <td>2023-03-07-Emotet-epoch4-infection-with-spambo...</td>\n",
       "      <td>UDP</td>\n",
       "      <td>322</td>\n",
       "    </tr>\n",
       "    <tr>\n",
       "      <th>12</th>\n",
       "      <td>2023-03-18-Emotet-E5-infection-traffic.pcap</td>\n",
       "      <td>ICMP</td>\n",
       "      <td>99</td>\n",
       "    </tr>\n",
       "    <tr>\n",
       "      <th>13</th>\n",
       "      <td>2023-03-18-Emotet-E5-infection-traffic.pcap</td>\n",
       "      <td>TCP</td>\n",
       "      <td>18000</td>\n",
       "    </tr>\n",
       "    <tr>\n",
       "      <th>14</th>\n",
       "      <td>2023-03-18-Emotet-E5-infection-traffic.pcap</td>\n",
       "      <td>UDP</td>\n",
       "      <td>696</td>\n",
       "    </tr>\n",
       "    <tr>\n",
       "      <th>15</th>\n",
       "      <td>2023-04-13-MetaStealer-C2-traffic.pcap</td>\n",
       "      <td>ICMP</td>\n",
       "      <td>5</td>\n",
       "    </tr>\n",
       "    <tr>\n",
       "      <th>16</th>\n",
       "      <td>2023-04-13-MetaStealer-C2-traffic.pcap</td>\n",
       "      <td>TCP</td>\n",
       "      <td>19839</td>\n",
       "    </tr>\n",
       "    <tr>\n",
       "      <th>17</th>\n",
       "      <td>2023-04-13-MetaStealer-C2-traffic.pcap</td>\n",
       "      <td>UDP</td>\n",
       "      <td>8</td>\n",
       "    </tr>\n",
       "  </tbody>\n",
       "</table>\n",
       "</div>"
      ],
      "text/plain": [
       "                                              capture protocol  Counts\n",
       "0        2022-01-04-Remcos-RAT-infection-traffic.pcap      TCP    5621\n",
       "1        2022-01-04-Remcos-RAT-infection-traffic.pcap      UDP       6\n",
       "2          2022-09-21-Astaroth-Guildma-infection.pcap      TCP   13232\n",
       "3          2022-09-21-Astaroth-Guildma-infection.pcap      UDP     243\n",
       "4   2022-12-07-Bumblebee-infection-with-Cobalt-Str...      TCP    6209\n",
       "5   2022-12-07-Bumblebee-infection-with-Cobalt-Str...      UDP     249\n",
       "6         2023-01-05-Agent-Tesla-variant-traffic.pcap      TCP     998\n",
       "7         2023-01-05-Agent-Tesla-variant-traffic.pcap      UDP      41\n",
       "8   2023-01-16-IcedID-infection-with-Backonnect-an...      TCP   24970\n",
       "9   2023-01-16-IcedID-infection-with-Backonnect-an...      UDP      78\n",
       "10  2023-03-07-Emotet-epoch4-infection-with-spambo...      TCP   75225\n",
       "11  2023-03-07-Emotet-epoch4-infection-with-spambo...      UDP     322\n",
       "12        2023-03-18-Emotet-E5-infection-traffic.pcap     ICMP      99\n",
       "13        2023-03-18-Emotet-E5-infection-traffic.pcap      TCP   18000\n",
       "14        2023-03-18-Emotet-E5-infection-traffic.pcap      UDP     696\n",
       "15             2023-04-13-MetaStealer-C2-traffic.pcap     ICMP       5\n",
       "16             2023-04-13-MetaStealer-C2-traffic.pcap      TCP   19839\n",
       "17             2023-04-13-MetaStealer-C2-traffic.pcap      UDP       8"
      ]
     },
     "execution_count": null,
     "metadata": {},
     "output_type": "execute_result"
    }
   ],
   "source": [
    "\n",
    "mdata.groupby([\"capture\", \"protocol\"]).size().reset_index(name=\"Counts\")\n"
   ]
  },
  {
   "cell_type": "code",
   "execution_count": null,
   "metadata": {
    "vscode": {
     "languageId": "python"
    }
   },
   "outputs": [
    {
     "data": {
      "text/html": [
       "<div>\n",
       "<style scoped>\n",
       "    .dataframe tbody tr th:only-of-type {\n",
       "        vertical-align: middle;\n",
       "    }\n",
       "\n",
       "    .dataframe tbody tr th {\n",
       "        vertical-align: top;\n",
       "    }\n",
       "\n",
       "    .dataframe thead th {\n",
       "        text-align: right;\n",
       "    }\n",
       "</style>\n",
       "<table border=\"1\" class=\"dataframe\">\n",
       "  <thead>\n",
       "    <tr style=\"text-align: right;\">\n",
       "      <th></th>\n",
       "      <th>capture</th>\n",
       "      <th>port_dst</th>\n",
       "      <th>Counts</th>\n",
       "    </tr>\n",
       "  </thead>\n",
       "  <tbody>\n",
       "    <tr>\n",
       "      <th>858</th>\n",
       "      <td>2023-03-07-Emotet-epoch4-infection-with-spambo...</td>\n",
       "      <td>465.0</td>\n",
       "      <td>16125</td>\n",
       "    </tr>\n",
       "    <tr>\n",
       "      <th>1949</th>\n",
       "      <td>2023-04-13-MetaStealer-C2-traffic.pcap</td>\n",
       "      <td>49825.0</td>\n",
       "      <td>12479</td>\n",
       "    </tr>\n",
       "    <tr>\n",
       "      <th>669</th>\n",
       "      <td>2023-01-16-IcedID-infection-with-Backonnect-an...</td>\n",
       "      <td>64823.0</td>\n",
       "      <td>8050</td>\n",
       "    </tr>\n",
       "    <tr>\n",
       "      <th>596</th>\n",
       "      <td>2023-01-16-IcedID-infection-with-Backonnect-an...</td>\n",
       "      <td>8080.0</td>\n",
       "      <td>7826</td>\n",
       "    </tr>\n",
       "    <tr>\n",
       "      <th>859</th>\n",
       "      <td>2023-03-07-Emotet-epoch4-infection-with-spambo...</td>\n",
       "      <td>587.0</td>\n",
       "      <td>7545</td>\n",
       "    </tr>\n",
       "    <tr>\n",
       "      <th>1947</th>\n",
       "      <td>2023-04-13-MetaStealer-C2-traffic.pcap</td>\n",
       "      <td>1775.0</td>\n",
       "      <td>7310</td>\n",
       "    </tr>\n",
       "    <tr>\n",
       "      <th>1117</th>\n",
       "      <td>2023-03-07-Emotet-epoch4-infection-with-spambo...</td>\n",
       "      <td>64234.0</td>\n",
       "      <td>6164</td>\n",
       "    </tr>\n",
       "    <tr>\n",
       "      <th>1081</th>\n",
       "      <td>2023-03-07-Emotet-epoch4-infection-with-spambo...</td>\n",
       "      <td>64164.0</td>\n",
       "      <td>6043</td>\n",
       "    </tr>\n",
       "    <tr>\n",
       "      <th>139</th>\n",
       "      <td>2022-09-21-Astaroth-Guildma-infection.pcap</td>\n",
       "      <td>49790.0</td>\n",
       "      <td>5885</td>\n",
       "    </tr>\n",
       "    <tr>\n",
       "      <th>1090</th>\n",
       "      <td>2023-03-07-Emotet-epoch4-infection-with-spambo...</td>\n",
       "      <td>64173.0</td>\n",
       "      <td>5562</td>\n",
       "    </tr>\n",
       "  </tbody>\n",
       "</table>\n",
       "</div>"
      ],
      "text/plain": [
       "                                                capture  port_dst  Counts\n",
       "858   2023-03-07-Emotet-epoch4-infection-with-spambo...     465.0   16125\n",
       "1949             2023-04-13-MetaStealer-C2-traffic.pcap   49825.0   12479\n",
       "669   2023-01-16-IcedID-infection-with-Backonnect-an...   64823.0    8050\n",
       "596   2023-01-16-IcedID-infection-with-Backonnect-an...    8080.0    7826\n",
       "859   2023-03-07-Emotet-epoch4-infection-with-spambo...     587.0    7545\n",
       "1947             2023-04-13-MetaStealer-C2-traffic.pcap    1775.0    7310\n",
       "1117  2023-03-07-Emotet-epoch4-infection-with-spambo...   64234.0    6164\n",
       "1081  2023-03-07-Emotet-epoch4-infection-with-spambo...   64164.0    6043\n",
       "139          2022-09-21-Astaroth-Guildma-infection.pcap   49790.0    5885\n",
       "1090  2023-03-07-Emotet-epoch4-infection-with-spambo...   64173.0    5562"
      ]
     },
     "execution_count": null,
     "metadata": {},
     "output_type": "execute_result"
    }
   ],
   "source": [
    "mdata.groupby([\"capture\", \"port_dst\"]).size().reset_index(name=\"Counts\").sort_values(by='Counts',ascending=False).head(10)"
   ]
  },
  {
   "cell_type": "code",
   "execution_count": null,
   "metadata": {
    "vscode": {
     "languageId": "python"
    }
   },
   "outputs": [
    {
     "data": {
      "text/html": [
       "<div>\n",
       "<style scoped>\n",
       "    .dataframe tbody tr th:only-of-type {\n",
       "        vertical-align: middle;\n",
       "    }\n",
       "\n",
       "    .dataframe tbody tr th {\n",
       "        vertical-align: top;\n",
       "    }\n",
       "\n",
       "    .dataframe thead th {\n",
       "        text-align: right;\n",
       "    }\n",
       "</style>\n",
       "<table border=\"1\" class=\"dataframe\">\n",
       "  <thead>\n",
       "    <tr style=\"text-align: right;\">\n",
       "      <th></th>\n",
       "      <th>capture</th>\n",
       "      <th>port_src</th>\n",
       "      <th>Counts</th>\n",
       "    </tr>\n",
       "  </thead>\n",
       "  <tbody>\n",
       "    <tr>\n",
       "      <th>868</th>\n",
       "      <td>2023-03-07-Emotet-epoch4-infection-with-spambo...</td>\n",
       "      <td>465.0</td>\n",
       "      <td>18848</td>\n",
       "    </tr>\n",
       "    <tr>\n",
       "      <th>2008</th>\n",
       "      <td>2023-04-13-MetaStealer-C2-traffic.pcap</td>\n",
       "      <td>1775.0</td>\n",
       "      <td>12529</td>\n",
       "    </tr>\n",
       "    <tr>\n",
       "      <th>869</th>\n",
       "      <td>2023-03-07-Emotet-epoch4-infection-with-spambo...</td>\n",
       "      <td>587.0</td>\n",
       "      <td>9234</td>\n",
       "    </tr>\n",
       "    <tr>\n",
       "      <th>606</th>\n",
       "      <td>2023-01-16-IcedID-infection-with-Backonnect-an...</td>\n",
       "      <td>8080.0</td>\n",
       "      <td>8390</td>\n",
       "    </tr>\n",
       "    <tr>\n",
       "      <th>679</th>\n",
       "      <td>2023-01-16-IcedID-infection-with-Backonnect-an...</td>\n",
       "      <td>64823.0</td>\n",
       "      <td>7557</td>\n",
       "    </tr>\n",
       "    <tr>\n",
       "      <th>2010</th>\n",
       "      <td>2023-04-13-MetaStealer-C2-traffic.pcap</td>\n",
       "      <td>49825.0</td>\n",
       "      <td>7253</td>\n",
       "    </tr>\n",
       "    <tr>\n",
       "      <th>19</th>\n",
       "      <td>2022-09-21-Astaroth-Guildma-infection.pcap</td>\n",
       "      <td>80.0</td>\n",
       "      <td>6610</td>\n",
       "    </tr>\n",
       "    <tr>\n",
       "      <th>870</th>\n",
       "      <td>2023-03-07-Emotet-epoch4-infection-with-spambo...</td>\n",
       "      <td>7080.0</td>\n",
       "      <td>6543</td>\n",
       "    </tr>\n",
       "    <tr>\n",
       "      <th>871</th>\n",
       "      <td>2023-03-07-Emotet-epoch4-infection-with-spambo...</td>\n",
       "      <td>8080.0</td>\n",
       "      <td>6437</td>\n",
       "    </tr>\n",
       "    <tr>\n",
       "      <th>1093</th>\n",
       "      <td>2023-03-07-Emotet-epoch4-infection-with-spambo...</td>\n",
       "      <td>64164.0</td>\n",
       "      <td>5213</td>\n",
       "    </tr>\n",
       "  </tbody>\n",
       "</table>\n",
       "</div>"
      ],
      "text/plain": [
       "                                                capture  port_src  Counts\n",
       "868   2023-03-07-Emotet-epoch4-infection-with-spambo...     465.0   18848\n",
       "2008             2023-04-13-MetaStealer-C2-traffic.pcap    1775.0   12529\n",
       "869   2023-03-07-Emotet-epoch4-infection-with-spambo...     587.0    9234\n",
       "606   2023-01-16-IcedID-infection-with-Backonnect-an...    8080.0    8390\n",
       "679   2023-01-16-IcedID-infection-with-Backonnect-an...   64823.0    7557\n",
       "2010             2023-04-13-MetaStealer-C2-traffic.pcap   49825.0    7253\n",
       "19           2022-09-21-Astaroth-Guildma-infection.pcap      80.0    6610\n",
       "870   2023-03-07-Emotet-epoch4-infection-with-spambo...    7080.0    6543\n",
       "871   2023-03-07-Emotet-epoch4-infection-with-spambo...    8080.0    6437\n",
       "1093  2023-03-07-Emotet-epoch4-infection-with-spambo...   64164.0    5213"
      ]
     },
     "execution_count": null,
     "metadata": {},
     "output_type": "execute_result"
    }
   ],
   "source": [
    "mdata.groupby([\"capture\", \"port_src\"]).size().reset_index(name=\"Counts\").sort_values(by='Counts',ascending=False).head(10)"
   ]
  },
  {
   "cell_type": "code",
   "execution_count": null,
   "metadata": {
    "vscode": {
     "languageId": "python"
    }
   },
   "outputs": [
    {
     "data": {
      "text/html": [
       "<div>\n",
       "<style scoped>\n",
       "    .dataframe tbody tr th:only-of-type {\n",
       "        vertical-align: middle;\n",
       "    }\n",
       "\n",
       "    .dataframe tbody tr th {\n",
       "        vertical-align: top;\n",
       "    }\n",
       "\n",
       "    .dataframe thead th {\n",
       "        text-align: right;\n",
       "    }\n",
       "</style>\n",
       "<table border=\"1\" class=\"dataframe\">\n",
       "  <thead>\n",
       "    <tr style=\"text-align: right;\">\n",
       "      <th></th>\n",
       "      <th>ip_dst_int</th>\n",
       "      <th>ip_src_int</th>\n",
       "      <th>length</th>\n",
       "      <th>mac_dst_int</th>\n",
       "      <th>mac_src_int</th>\n",
       "      <th>port_dst</th>\n",
       "      <th>port_src</th>\n",
       "      <th>label</th>\n",
       "    </tr>\n",
       "  </thead>\n",
       "  <tbody>\n",
       "    <tr>\n",
       "      <th>count</th>\n",
       "      <td>1.657070e+05</td>\n",
       "      <td>1.657070e+05</td>\n",
       "      <td>167242.000000</td>\n",
       "      <td>1.672420e+05</td>\n",
       "      <td>1.672420e+05</td>\n",
       "      <td>165737.000000</td>\n",
       "      <td>165737.000000</td>\n",
       "      <td>167242.0</td>\n",
       "    </tr>\n",
       "    <tr>\n",
       "      <th>mean</th>\n",
       "      <td>1.637467e+09</td>\n",
       "      <td>1.809889e+09</td>\n",
       "      <td>712.858606</td>\n",
       "      <td>2.865872e+13</td>\n",
       "      <td>2.656908e+13</td>\n",
       "      <td>36881.798778</td>\n",
       "      <td>24398.298775</td>\n",
       "      <td>1.0</td>\n",
       "    </tr>\n",
       "    <tr>\n",
       "      <th>std</th>\n",
       "      <td>1.273197e+09</td>\n",
       "      <td>1.183365e+09</td>\n",
       "      <td>687.362543</td>\n",
       "      <td>6.278353e+13</td>\n",
       "      <td>5.474226e+13</td>\n",
       "      <td>27956.455094</td>\n",
       "      <td>27928.376870</td>\n",
       "      <td>0.0</td>\n",
       "    </tr>\n",
       "    <tr>\n",
       "      <th>min</th>\n",
       "      <td>9.897851e+07</td>\n",
       "      <td>0.000000e+00</td>\n",
       "      <td>42.000000</td>\n",
       "      <td>1.280447e+10</td>\n",
       "      <td>1.280447e+10</td>\n",
       "      <td>25.000000</td>\n",
       "      <td>25.000000</td>\n",
       "      <td>1.0</td>\n",
       "    </tr>\n",
       "    <tr>\n",
       "      <th>25%</th>\n",
       "      <td>1.685605e+08</td>\n",
       "      <td>6.237032e+08</td>\n",
       "      <td>54.000000</td>\n",
       "      <td>1.280447e+10</td>\n",
       "      <td>4.842871e+10</td>\n",
       "      <td>587.000000</td>\n",
       "      <td>465.000000</td>\n",
       "      <td>1.0</td>\n",
       "    </tr>\n",
       "    <tr>\n",
       "      <th>50%</th>\n",
       "      <td>1.738531e+09</td>\n",
       "      <td>1.746220e+09</td>\n",
       "      <td>207.000000</td>\n",
       "      <td>4.842871e+10</td>\n",
       "      <td>4.842871e+10</td>\n",
       "      <td>49825.000000</td>\n",
       "      <td>8080.000000</td>\n",
       "      <td>1.0</td>\n",
       "    </tr>\n",
       "    <tr>\n",
       "      <th>75%</th>\n",
       "      <td>2.886730e+09</td>\n",
       "      <td>2.886730e+09</td>\n",
       "      <td>1514.000000</td>\n",
       "      <td>2.683002e+13</td>\n",
       "      <td>2.683002e+13</td>\n",
       "      <td>64110.000000</td>\n",
       "      <td>51414.000000</td>\n",
       "      <td>1.0</td>\n",
       "    </tr>\n",
       "    <tr>\n",
       "      <th>max</th>\n",
       "      <td>4.294967e+09</td>\n",
       "      <td>3.681890e+09</td>\n",
       "      <td>1514.000000</td>\n",
       "      <td>2.814750e+14</td>\n",
       "      <td>2.134394e+14</td>\n",
       "      <td>65470.000000</td>\n",
       "      <td>65470.000000</td>\n",
       "      <td>1.0</td>\n",
       "    </tr>\n",
       "  </tbody>\n",
       "</table>\n",
       "</div>"
      ],
      "text/plain": [
       "         ip_dst_int    ip_src_int         length   mac_dst_int   mac_src_int  \\\n",
       "count  1.657070e+05  1.657070e+05  167242.000000  1.672420e+05  1.672420e+05   \n",
       "mean   1.637467e+09  1.809889e+09     712.858606  2.865872e+13  2.656908e+13   \n",
       "std    1.273197e+09  1.183365e+09     687.362543  6.278353e+13  5.474226e+13   \n",
       "min    9.897851e+07  0.000000e+00      42.000000  1.280447e+10  1.280447e+10   \n",
       "25%    1.685605e+08  6.237032e+08      54.000000  1.280447e+10  4.842871e+10   \n",
       "50%    1.738531e+09  1.746220e+09     207.000000  4.842871e+10  4.842871e+10   \n",
       "75%    2.886730e+09  2.886730e+09    1514.000000  2.683002e+13  2.683002e+13   \n",
       "max    4.294967e+09  3.681890e+09    1514.000000  2.814750e+14  2.134394e+14   \n",
       "\n",
       "            port_dst       port_src     label  \n",
       "count  165737.000000  165737.000000  167242.0  \n",
       "mean    36881.798778   24398.298775       1.0  \n",
       "std     27956.455094   27928.376870       0.0  \n",
       "min        25.000000      25.000000       1.0  \n",
       "25%       587.000000     465.000000       1.0  \n",
       "50%     49825.000000    8080.000000       1.0  \n",
       "75%     64110.000000   51414.000000       1.0  \n",
       "max     65470.000000   65470.000000       1.0  "
      ]
     },
     "execution_count": null,
     "metadata": {},
     "output_type": "execute_result"
    }
   ],
   "source": [
    "mdata.describe()"
   ]
  },
  {
   "cell_type": "code",
   "execution_count": null,
   "metadata": {
    "vscode": {
     "languageId": "python"
    }
   },
   "outputs": [
    {
     "data": {
      "text/html": [
       "<div>\n",
       "<style scoped>\n",
       "    .dataframe tbody tr th:only-of-type {\n",
       "        vertical-align: middle;\n",
       "    }\n",
       "\n",
       "    .dataframe tbody tr th {\n",
       "        vertical-align: top;\n",
       "    }\n",
       "\n",
       "    .dataframe thead th {\n",
       "        text-align: right;\n",
       "    }\n",
       "</style>\n",
       "<table border=\"1\" class=\"dataframe\">\n",
       "  <thead>\n",
       "    <tr style=\"text-align: right;\">\n",
       "      <th></th>\n",
       "      <th>ip_dst_int</th>\n",
       "      <th>ip_src_int</th>\n",
       "      <th>length</th>\n",
       "      <th>mac_dst_int</th>\n",
       "      <th>mac_src_int</th>\n",
       "      <th>port_dst</th>\n",
       "      <th>port_src</th>\n",
       "      <th>label</th>\n",
       "    </tr>\n",
       "  </thead>\n",
       "  <tbody>\n",
       "    <tr>\n",
       "      <th>count</th>\n",
       "      <td>4.613000e+04</td>\n",
       "      <td>4.613000e+04</td>\n",
       "      <td>61059.000000</td>\n",
       "      <td>6.105900e+04</td>\n",
       "      <td>6.105900e+04</td>\n",
       "      <td>49627.000000</td>\n",
       "      <td>49627.000000</td>\n",
       "      <td>61059.0</td>\n",
       "    </tr>\n",
       "    <tr>\n",
       "      <th>mean</th>\n",
       "      <td>1.719452e+09</td>\n",
       "      <td>1.961301e+09</td>\n",
       "      <td>477.937536</td>\n",
       "      <td>9.258988e+13</td>\n",
       "      <td>8.469094e+13</td>\n",
       "      <td>24864.186532</td>\n",
       "      <td>21782.784633</td>\n",
       "      <td>0.0</td>\n",
       "    </tr>\n",
       "    <tr>\n",
       "      <th>std</th>\n",
       "      <td>1.456205e+09</td>\n",
       "      <td>1.277887e+09</td>\n",
       "      <td>587.062218</td>\n",
       "      <td>9.019149e+13</td>\n",
       "      <td>8.747990e+13</td>\n",
       "      <td>25338.449216</td>\n",
       "      <td>25432.119090</td>\n",
       "      <td>0.0</td>\n",
       "    </tr>\n",
       "    <tr>\n",
       "      <th>min</th>\n",
       "      <td>1.684301e+07</td>\n",
       "      <td>0.000000e+00</td>\n",
       "      <td>42.000000</td>\n",
       "      <td>0.000000e+00</td>\n",
       "      <td>0.000000e+00</td>\n",
       "      <td>13.000000</td>\n",
       "      <td>13.000000</td>\n",
       "      <td>0.0</td>\n",
       "    </tr>\n",
       "    <tr>\n",
       "      <th>25%</th>\n",
       "      <td>1.678383e+08</td>\n",
       "      <td>4.000452e+08</td>\n",
       "      <td>78.000000</td>\n",
       "      <td>1.101089e+12</td>\n",
       "      <td>8.796758e+12</td>\n",
       "      <td>631.000000</td>\n",
       "      <td>443.000000</td>\n",
       "      <td>0.0</td>\n",
       "    </tr>\n",
       "    <tr>\n",
       "      <th>50%</th>\n",
       "      <td>1.418889e+09</td>\n",
       "      <td>2.454412e+09</td>\n",
       "      <td>134.000000</td>\n",
       "      <td>6.638738e+13</td>\n",
       "      <td>6.200099e+13</td>\n",
       "      <td>7078.000000</td>\n",
       "      <td>5690.000000</td>\n",
       "      <td>0.0</td>\n",
       "    </tr>\n",
       "    <tr>\n",
       "      <th>75%</th>\n",
       "      <td>3.232237e+09</td>\n",
       "      <td>3.232237e+09</td>\n",
       "      <td>981.000000</td>\n",
       "      <td>1.812115e+14</td>\n",
       "      <td>1.812115e+14</td>\n",
       "      <td>55545.000000</td>\n",
       "      <td>54293.000000</td>\n",
       "      <td>0.0</td>\n",
       "    </tr>\n",
       "    <tr>\n",
       "      <th>max</th>\n",
       "      <td>4.294967e+09</td>\n",
       "      <td>3.640661e+09</td>\n",
       "      <td>8814.000000</td>\n",
       "      <td>2.814750e+14</td>\n",
       "      <td>2.758225e+14</td>\n",
       "      <td>65535.000000</td>\n",
       "      <td>65535.000000</td>\n",
       "      <td>0.0</td>\n",
       "    </tr>\n",
       "  </tbody>\n",
       "</table>\n",
       "</div>"
      ],
      "text/plain": [
       "         ip_dst_int    ip_src_int        length   mac_dst_int   mac_src_int  \\\n",
       "count  4.613000e+04  4.613000e+04  61059.000000  6.105900e+04  6.105900e+04   \n",
       "mean   1.719452e+09  1.961301e+09    477.937536  9.258988e+13  8.469094e+13   \n",
       "std    1.456205e+09  1.277887e+09    587.062218  9.019149e+13  8.747990e+13   \n",
       "min    1.684301e+07  0.000000e+00     42.000000  0.000000e+00  0.000000e+00   \n",
       "25%    1.678383e+08  4.000452e+08     78.000000  1.101089e+12  8.796758e+12   \n",
       "50%    1.418889e+09  2.454412e+09    134.000000  6.638738e+13  6.200099e+13   \n",
       "75%    3.232237e+09  3.232237e+09    981.000000  1.812115e+14  1.812115e+14   \n",
       "max    4.294967e+09  3.640661e+09   8814.000000  2.814750e+14  2.758225e+14   \n",
       "\n",
       "           port_dst      port_src    label  \n",
       "count  49627.000000  49627.000000  61059.0  \n",
       "mean   24864.186532  21782.784633      0.0  \n",
       "std    25338.449216  25432.119090      0.0  \n",
       "min       13.000000     13.000000      0.0  \n",
       "25%      631.000000    443.000000      0.0  \n",
       "50%     7078.000000   5690.000000      0.0  \n",
       "75%    55545.000000  54293.000000      0.0  \n",
       "max    65535.000000  65535.000000      0.0  "
      ]
     },
     "execution_count": null,
     "metadata": {},
     "output_type": "execute_result"
    }
   ],
   "source": [
    "bdata.describe()"
   ]
  },
  {
   "attachments": {},
   "cell_type": "markdown",
   "metadata": {},
   "source": [
    "## Training a model\n",
    "\n",
    "First we define a few wrapper functions to generate the data. The first function generates a specific set of features using the flows derived from a pcap file. "
   ]
  },
  {
   "cell_type": "code",
   "execution_count": null,
   "metadata": {
    "vscode": {
     "languageId": "python"
    }
   },
   "outputs": [],
   "source": [
    "#| export \n",
    "\n",
    "def collect_flow_stats(pcap_file: Path) -> pd.DataFrame:\n",
    "    \n",
    "    pf = PacketFlows(pcap_file, verbose=0)\n",
    "    stats_features = pf.stats_features()\n",
    "    \n",
    "    tcp_ports = [20, 21, 22, 23, 25, 53, 80, 110, 143, 443, 465, 587, 993, 995, 3306, 3389, 5432, 8080]\n",
    "    udp_ports = [67, 68, 123, 161, 500, 514]\n",
    "    total_ports = tcp_ports + udp_ports \n",
    "    \n",
    "    # Ports from the flow \n",
    "    src_ports = pd.Categorical(pf.src_ports, categories=total_ports)\n",
    "    dst_ports = pd.Categorical(pf.dst_ports, categories=total_ports)\n",
    "    protocol = pd.Categorical(pf.protocols, categories=['tcp', 'udp', 'icmp'])\n",
    "    \n",
    "    # Headers from the flow\n",
    "    headers_features =  pf.header_features()\n",
    "    \n",
    "    X = np.hstack([stats_features,\n",
    "                      headers_features,\n",
    "                      ])\n",
    "    \n",
    "    # Put the categorical features at the end of the dataframe \n",
    "    features_names = pf.stats_features_names()\n",
    "    features_names  +=  ['flags_' + str(i) for i in FLAG_NAMES] \n",
    "    df = pd.DataFrame(X, columns=features_names)\n",
    "    df['src_port'] = src_ports\n",
    "    df['dst_port'] = dst_ports\n",
    "    df['protocol'] = protocol \n",
    "    df = pd.get_dummies(df, columns=['protocol', 'src_port', 'dst_port'], drop_first=True)\n",
    "    return df\n",
    "    \n",
    "    \n",
    "\n"
   ]
  },
  {
   "cell_type": "code",
   "execution_count": null,
   "metadata": {
    "vscode": {
     "languageId": "python"
    }
   },
   "outputs": [
    {
     "data": {
      "text/plain": [
       "(26, 68)"
      ]
     },
     "execution_count": null,
     "metadata": {},
     "output_type": "execute_result"
    }
   ],
   "source": [
    "df_test = collect_flow_stats(malware_files[2])\n",
    "\n",
    "df_test.shape"
   ]
  },
  {
   "cell_type": "code",
   "execution_count": null,
   "metadata": {
    "vscode": {
     "languageId": "python"
    }
   },
   "outputs": [
    {
     "data": {
      "text/plain": [
       "Index(['duration', 'pkts_rate', 'bytes_rate', 'mean_size', 'std_sizes',\n",
       "       'q1_sizes', 'q2_sizes', 'q3_sizes', 'min_sizes', 'max_sizes',\n",
       "       'num_pkts', 'num_bytes', 'flags_FIN', 'flags_SYN', 'flags_RST',\n",
       "       'flags_PSH', 'flags_ACK', 'flags_URG', 'flags_ECE', 'flags_CWR',\n",
       "       'protocol_udp', 'protocol_icmp', 'src_port_21', 'src_port_22',\n",
       "       'src_port_23', 'src_port_25', 'src_port_53', 'src_port_80',\n",
       "       'src_port_110', 'src_port_143', 'src_port_443', 'src_port_465',\n",
       "       'src_port_587', 'src_port_993', 'src_port_995', 'src_port_3306',\n",
       "       'src_port_3389', 'src_port_5432', 'src_port_8080', 'src_port_67',\n",
       "       'src_port_68', 'src_port_123', 'src_port_161', 'src_port_500',\n",
       "       'src_port_514', 'dst_port_21', 'dst_port_22', 'dst_port_23',\n",
       "       'dst_port_25', 'dst_port_53', 'dst_port_80', 'dst_port_110',\n",
       "       'dst_port_143', 'dst_port_443', 'dst_port_465', 'dst_port_587',\n",
       "       'dst_port_993', 'dst_port_995', 'dst_port_3306', 'dst_port_3389',\n",
       "       'dst_port_5432', 'dst_port_8080', 'dst_port_67', 'dst_port_68',\n",
       "       'dst_port_123', 'dst_port_161', 'dst_port_500', 'dst_port_514'],\n",
       "      dtype='object')"
      ]
     },
     "execution_count": null,
     "metadata": {},
     "output_type": "execute_result"
    }
   ],
   "source": [
    "df_test.columns"
   ]
  },
  {
   "attachments": {},
   "cell_type": "markdown",
   "metadata": {},
   "source": [
    "Aggregate the features into (X,y) and add the labels (1) for Malware and (0) for Benign."
   ]
  },
  {
   "cell_type": "code",
   "execution_count": null,
   "metadata": {
    "vscode": {
     "languageId": "python"
    }
   },
   "outputs": [],
   "source": [
    "#| export \n",
    "\n",
    "def hash_datafiles(filelist: List[Path]) -> str:\n",
    "    return hashlib.md5((\"--\".join(map(lambda x: str(x.name), filelist))).encode()).hexdigest()\n",
    "\n",
    "\n",
    "def load_training_validation(malware_path: Path, # Path to Malware samples\n",
    "                             benign_path: Path, # Path to Benign samples\n",
    "                             load: bool = True, # Load the data from disk if already built\n",
    "                             save: bool = True, # Save the data to disk\n",
    "                             store_path: Path | None= None, # Path to store the data\n",
    "                             *args , \n",
    "                             **kwargs\n",
    "                             ) -> Tuple[pd.DataFrame, np.array]:\n",
    "    \n",
    "    benign_files = list(benign_path.glob('*.pcap*'))\n",
    "    malware_files = list(malware_path.glob('*.pcap*'))\n",
    "    \n",
    "    benign_files.sort()\n",
    "    malware_files.sort()\n",
    "     \n",
    "    benign_filehash = hash_datafiles(benign_files)\n",
    "    malware_filehash = hash_datafiles(malware_files)\n",
    "    \n",
    "    X_filename = f'X_{benign_filehash}_{malware_filehash}.csv.gz'\n",
    "    y_filename = f'y_{benign_filehash}_{malware_filehash}.csv.gz'\n",
    "    \n",
    "    # Load the data if files with those hashes exist\n",
    "    store_path = malware_path.parent / \"datastore\" / f\"{benign_filehash}_{malware_filehash}\" if store_path is None else store_path\n",
    "    store_path.mkdir(exist_ok=True)\n",
    "    files_already_exist = (store_path / X_filename).exists() and (store_path / y_filename).exists()\n",
    "    \n",
    "    if load and files_already_exist:\n",
    "        print(f\"Data found on disk at {store_path}: Loading from there\")\n",
    "        X = pd.read_csv(store_path / X_filename, delimiter=',')\n",
    "        y = np.loadtxt(store_path / y_filename, delimiter=',')\n",
    "        return X, y\n",
    "        \n",
    "    Xm = pd.concat([collect_flow_stats(f) for f in malware_files])\n",
    "    Xb = pd.concat([collect_flow_stats(f) for f in benign_files])\n",
    "    X = pd.concat([Xm, Xb])\n",
    "    y = np.array([1] * Xm.shape[0] + [0] * Xb.shape[0])\n",
    "\n",
    "    if save:\n",
    "        X.to_csv(store_path / X_filename, index=False)\n",
    "        np.savetxt(store_path / y_filename, y, delimiter=',')\n",
    "        \n",
    "    return X, y\n"
   ]
  },
  {
   "cell_type": "code",
   "execution_count": null,
   "metadata": {
    "vscode": {
     "languageId": "python"
    }
   },
   "outputs": [
    {
     "name": "stdout",
     "output_type": "stream",
     "text": [
      "(4345, 68)\n"
     ]
    }
   ],
   "source": [
    "X,y = load_training_validation(MPATH, BPATH, load=False, save=True)\n",
    "print(X.shape)"
   ]
  },
  {
   "cell_type": "code",
   "execution_count": null,
   "metadata": {
    "vscode": {
     "languageId": "python"
    }
   },
   "outputs": [
    {
     "data": {
      "text/plain": [
       "Index(['duration', 'pkts_rate', 'bytes_rate', 'mean_size', 'std_sizes',\n",
       "       'q1_sizes', 'q2_sizes', 'q3_sizes', 'min_sizes', 'max_sizes',\n",
       "       'num_pkts', 'num_bytes', 'flags_FIN', 'flags_SYN', 'flags_RST',\n",
       "       'flags_PSH', 'flags_ACK', 'flags_URG', 'flags_ECE', 'flags_CWR',\n",
       "       'protocol_udp', 'protocol_icmp', 'src_port_21', 'src_port_22',\n",
       "       'src_port_23', 'src_port_25', 'src_port_53', 'src_port_80',\n",
       "       'src_port_110', 'src_port_143', 'src_port_443', 'src_port_465',\n",
       "       'src_port_587', 'src_port_993', 'src_port_995', 'src_port_3306',\n",
       "       'src_port_3389', 'src_port_5432', 'src_port_8080', 'src_port_67',\n",
       "       'src_port_68', 'src_port_123', 'src_port_161', 'src_port_500',\n",
       "       'src_port_514', 'dst_port_21', 'dst_port_22', 'dst_port_23',\n",
       "       'dst_port_25', 'dst_port_53', 'dst_port_80', 'dst_port_110',\n",
       "       'dst_port_143', 'dst_port_443', 'dst_port_465', 'dst_port_587',\n",
       "       'dst_port_993', 'dst_port_995', 'dst_port_3306', 'dst_port_3389',\n",
       "       'dst_port_5432', 'dst_port_8080', 'dst_port_67', 'dst_port_68',\n",
       "       'dst_port_123', 'dst_port_161', 'dst_port_500', 'dst_port_514'],\n",
       "      dtype='object')"
      ]
     },
     "execution_count": null,
     "metadata": {},
     "output_type": "execute_result"
    }
   ],
   "source": [
    "X.columns"
   ]
  },
  {
   "cell_type": "code",
   "execution_count": null,
   "metadata": {
    "vscode": {
     "languageId": "python"
    }
   },
   "outputs": [],
   "source": [
    "#| export \n",
    "\n",
    "from sklearn.ensemble import RandomForestClassifier, GradientBoostingClassifier\n",
    "from sklearn.linear_model import LogisticRegression\n",
    "from sklearn.svm import SVC \n",
    "from sklearn.neighbors import KNeighborsClassifier \n",
    "from sklearn.neural_network import MLPClassifier\n",
    "from sklearn.naive_bayes import GaussianNB\n",
    "import xgboost as xgb\n",
    "\n",
    "from sklearn.preprocessing import StandardScaler\n",
    "from sklearn.pipeline import Pipeline\n",
    "from sklearn.model_selection import train_test_split\n",
    "from sklearn.metrics import confusion_matrix, f1_score, precision_score, recall_score,  accuracy_score,roc_auc_score\n",
    "from sklearn.model_selection import cross_val_score\n",
    "from sklearn.compose import ColumnTransformer \n",
    "\n",
    "from sklearn.metrics import RocCurveDisplay, ConfusionMatrixDisplay\n",
    "from sklearn.calibration import CalibrationDisplay\n",
    "from sklearn.manifold import TSNE\n",
    "import matplotlib.pyplot as plt\n",
    "\n",
    "from dataclasses import dataclass\n",
    "import seaborn as sns\n",
    "\n",
    "\n"
   ]
  },
  {
   "cell_type": "code",
   "execution_count": null,
   "metadata": {
    "vscode": {
     "languageId": "python"
    }
   },
   "outputs": [
    {
     "name": "stdout",
     "output_type": "stream",
     "text": [
      "Training set has 3041 samples.\n",
      "Test set has 1304 samples.\n",
      "Training set has 2060 malware samples.\n",
      "Training set has 981 legitimate samples.\n"
     ]
    }
   ],
   "source": [
    "\n",
    "X_train, X_test, y_train, y_test = train_test_split(X, y, test_size = 0.3, random_state=42)\n",
    "\n",
    "# Show the sizes of the training and test sets\n",
    "print(\"Training set has {} samples.\".format(X_train.shape[0]))\n",
    "print(\"Test set has {} samples.\".format(X_test.shape[0]))\n",
    "\n",
    "# Show the balance of labels in the training and test sets\n",
    "print(\"Training set has {} malware samples.\".format(sum(y_train)))\n",
    "print(\"Training set has {} legitimate samples.\".format(len(y_train) - sum(y_train)))\n",
    "\n"
   ]
  },
  {
   "attachments": {},
   "cell_type": "markdown",
   "metadata": {},
   "source": [
    "This tells us that the malware sample flows are twice as common as the benign samples in our dataset. This next plot attempts to do a low dimensional embedding of the features (2 dimensions) and then overlays the labels. This is just to get a sense of whether the features are separable. This plot demonstrates that the features are not linearly separable or low dimensional in nature, so we will need to use a non-linear classifier."
   ]
  },
  {
   "cell_type": "code",
   "execution_count": null,
   "metadata": {
    "vscode": {
     "languageId": "python"
    }
   },
   "outputs": [
    {
     "name": "stderr",
     "output_type": "stream",
     "text": [
      "/Users/khannay/miniconda3/envs/malware-detect/lib/python3.11/site-packages/sklearn/manifold/_t_sne.py:800: FutureWarning: The default initialization in TSNE will change from 'random' to 'pca' in 1.2.\n",
      "  warnings.warn(\n",
      "/Users/khannay/miniconda3/envs/malware-detect/lib/python3.11/site-packages/sklearn/manifold/_t_sne.py:810: FutureWarning: The default learning rate in TSNE will change from 200.0 to 'auto' in 1.2.\n",
      "  warnings.warn(\n"
     ]
    },
    {
     "data": {
      "image/png": "[encoded data removed]",
      "text/plain": [
       "<Figure size 600x600 with 3 Axes>"
      ]
     },
     "metadata": {},
     "output_type": "display_data"
    }
   ],
   "source": [
    "# Create an tsne embedding of the data and show the labels from y_train \n",
    "\n",
    "TSNE_model = TSNE(n_components=2, random_state=42)\n",
    "X_embedded = TSNE_model.fit_transform(X_train.to_numpy())\n",
    "\n",
    "df_tsne = pd.DataFrame({ 'x': X_embedded[:,0], 'y': X_embedded[:,1], 'label': y_train })\n",
    "sns.jointplot(data=df_tsne, x=\"x\", y=\"y\", hue=\"label\", kind=\"hist\");"
   ]
  },
  {
   "attachments": {},
   "cell_type": "markdown",
   "metadata": {},
   "source": [
    "## Training models\n",
    "\n",
    "Next we will train some classifier models using these processed features. The firs step is to create some data structures for holding the results and running the training loops. "
   ]
  },
  {
   "cell_type": "code",
   "execution_count": null,
   "metadata": {
    "vscode": {
     "languageId": "python"
    }
   },
   "outputs": [],
   "source": [
    "#| export \n",
    "\n",
    "@dataclass\n",
    "class ModelCandidate():\n",
    "    model: Any\n",
    "    name: str\n",
    "\n",
    "@dataclass\n",
    "class ModelMetrics():\n",
    "    modelcand: ModelCandidate\n",
    "    accuracy_score: float\n",
    "    cv_scores: np.ndarray\n",
    "    auc_score: float\n",
    "    f1_score: float\n",
    "    confusion_matrix: np.ndarray\n",
    "    \n",
    "    def plot_confusion_matrix(self, \n",
    "                              ax: plt.Axes or None = None,\n",
    "                              *args, \n",
    "                              **kwargs) -> None:\n",
    "        if ax is None:\n",
    "            ax = plt.gca()\n",
    "        ConfusionMatrixDisplay(confusion_matrix=self.confusion_matrix, \n",
    "                               display_labels=['Benign', 'Malware']\n",
    "                               ).plot(ax=ax, cmap = 'BuGn', *args, **kwargs)\n",
    "        ax.set_title(f\"Confusion Matrix: {self.modelcand.name}\")\n",
    "        \n",
    "    def plot_roc_curve(self, \n",
    "                       X_test, \n",
    "                       y_test, \n",
    "                       ax: plt.Axes or None = None, \n",
    "                       *args, \n",
    "                       **kwargs) -> None:\n",
    "        if ax is None:\n",
    "            ax = plt.gca()\n",
    "        RocCurveDisplay.from_estimator(self.modelcand.model, \n",
    "                                       X_test, \n",
    "                                       y_test, \n",
    "                                       ax= ax,\n",
    "                                       name = self.modelcand.name,  \n",
    "                                       *args, \n",
    "                                       **kwargs)\n",
    "        ax.set_title(f\"ROC Curves\")\n",
    "        \n",
    "    def plot_calibration_curve(self, \n",
    "                       X_test, \n",
    "                       y_test, \n",
    "                       ax: plt.Axes or None = None, \n",
    "                       *args, \n",
    "                       **kwargs) -> None:\n",
    "        if ax is None:\n",
    "            ax = plt.gca()\n",
    "        CalibrationDisplay.from_estimator(self.modelcand.model, \n",
    "                                          X_test, \n",
    "                                          y_test, \n",
    "                                          ax=ax, \n",
    "                                          name=self.modelcand.name,\n",
    "                                          *args, \n",
    "                                          **kwargs)\n",
    "        ax.set_title(f\"Calibration Curves\")\n",
    "        \n",
    "    def importances(self, top: int = 10):\n",
    "        try: \n",
    "            feature_importances = self.modelcand.model['model'].feature_importances_\n",
    "            indices = np.argsort(feature_importances)[::-1]\n",
    "            feature_names = X_train.columns\n",
    "            for f in range(min(top, X_train.shape[1])):\n",
    "                print(\"%d. feature %s (%f)\" % (f + 1, features_names[indices[f]], feature_importances[indices[f]]))\n",
    "        except AttributeError:\n",
    "            print(\"feature_importances_ not available for this model\")\n",
    "            \n",
    "\n",
    "        \n"
   ]
  },
  {
   "attachments": {},
   "cell_type": "markdown",
   "metadata": {},
   "source": [
    "This function will actually train the model and compute some evaluation metrics. "
   ]
  },
  {
   "cell_type": "code",
   "execution_count": null,
   "metadata": {
    "vscode": {
     "languageId": "python"
    }
   },
   "outputs": [],
   "source": [
    "#| export \n",
    "\n",
    "\n",
    "def evaluate(candidate: ModelCandidate, # Pipeline with a name attribute and a model attribute\n",
    "             X_train: np.ndarray, \n",
    "             y_train: np.ndarray, \n",
    "             X_test: np.ndarray, \n",
    "             y_test: np.ndarray\n",
    "             ) -> ModelMetrics:\n",
    "    \n",
    "    model = candidate.model\n",
    "    model.fit(X_train, y_train)\n",
    "    \n",
    "    cv_scores = cross_val_score(model, X_train, y_train, cv=5)\n",
    "    acc_score = model.score(X_train, y_train)\n",
    "    auc_score = roc_auc_score(y_train, model.predict_proba(X_train)[:, 1])\n",
    "    f1_value = f1_score(y_train, model.predict(X_train))\n",
    "    confusion_matrix_val = confusion_matrix(y_test, model.predict(X_test), normalize='true')\n",
    "    metrics = {'accuracy_score': acc_score, \n",
    "               'cv_scores': cv_scores, \n",
    "               'auc_score': auc_score, \n",
    "               'f1_score': f1_value, \n",
    "               'confusion_matrix': confusion_matrix_val}\n",
    "    \n",
    "    candidate.model = model\n",
    "    return ModelMetrics(candidate, **metrics)\n",
    "\n"
   ]
  },
  {
   "attachments": {},
   "cell_type": "markdown",
   "metadata": {},
   "source": [
    "Here we actually build some pipelines to evaluate some model architectures. I am rescaling the numerical features and passing in the remaining categorical features as dummy coded variables. "
   ]
  },
  {
   "cell_type": "code",
   "execution_count": null,
   "metadata": {
    "vscode": {
     "languageId": "python"
    }
   },
   "outputs": [],
   "source": [
    "category_features = list(range(20, X.shape[1])) # All features are categorical except the first 20 \n",
    "\n",
    "baseline_pipe = [('scale', ColumnTransformer([('scaler', StandardScaler(), slice(0, 20))], remainder='passthrough'))]\n",
    "\n",
    "svm_pipe = Pipeline( baseline_pipe + [('model', SVC(random_state=42, probability=True, kernel='rbf'))])\n",
    "logreg_pipe = Pipeline(baseline_pipe + [('model', LogisticRegression(max_iter=10_000))])\n",
    "rf_pipe = Pipeline(baseline_pipe + [('model', RandomForestClassifier(n_estimators = 30, random_state=42))])\n",
    "xgb_pipe = Pipeline(baseline_pipe + [('model', xgb.XGBClassifier(random_state=42, eval_metric='logloss'))])\n",
    "knn_pipe3 = Pipeline(baseline_pipe + [('model', KNeighborsClassifier(n_neighbors=3))])\n",
    "knn_pipe5 = Pipeline(baseline_pipe + [('model', KNeighborsClassifier(n_neighbors=5))])\n"
   ]
  },
  {
   "cell_type": "code",
   "execution_count": null,
   "metadata": {
    "vscode": {
     "languageId": "python"
    }
   },
   "outputs": [],
   "source": [
    "\n",
    "candidate_models = [ ModelCandidate(xgb_pipe, \"XGBoost\"),\n",
    "                    ModelCandidate(rf_pipe, \"Random Forest\"),\n",
    "                    ModelCandidate(knn_pipe3, \"KNN-3\"),\n",
    "                    ModelCandidate(knn_pipe5, \"KNN-5\"),\n",
    "                    ModelCandidate(svm_pipe, \"SVM\"),\n",
    "                    ModelCandidate(logreg_pipe, \"Logistic Regression\"),\n",
    "                    ]\n",
    "\n"
   ]
  },
  {
   "attachments": {},
   "cell_type": "markdown",
   "metadata": {},
   "source": [
    "Actually fit the models for evaluation."
   ]
  },
  {
   "cell_type": "code",
   "execution_count": null,
   "metadata": {
    "vscode": {
     "languageId": "python"
    }
   },
   "outputs": [],
   "source": [
    "# Instantiate model \n",
    "\n",
    "fit_models = [evaluate(model, X_train, y_train, X_test, y_test) for model in candidate_models]\n"
   ]
  },
  {
   "attachments": {},
   "cell_type": "markdown",
   "metadata": {},
   "source": [
    "Make a confusion matrix for each model, showing the percentage of correctly classified samples."
   ]
  },
  {
   "cell_type": "code",
   "execution_count": null,
   "metadata": {
    "vscode": {
     "languageId": "python"
    }
   },
   "outputs": [
    {
     "data": {
      "image/png": "[encoded data removed]",
      "text/plain": [
       "<Figure size 1200x2000 with 12 Axes>"
      ]
     },
     "metadata": {},
     "output_type": "display_data"
    }
   ],
   "source": [
    "fig, ax = plt.subplots(3,2, figsize = (12,20), squeeze=False)\n",
    "\n",
    "for idx, model in enumerate(fit_models):\n",
    "    model.plot_confusion_matrix(ax=fig.axes[idx])\n"
   ]
  },
  {
   "attachments": {},
   "cell_type": "markdown",
   "metadata": {},
   "source": [
    "Next we show the ROC curves for each model. ROC curves are a way of visualizing the tradeoff between the true positive rate and the false positive rate for a classifier. The area under the curve (AUC) is a measure of the overall performance of the classifier. The higher the AUC the better the classifier. "
   ]
  },
  {
   "cell_type": "code",
   "execution_count": null,
   "metadata": {
    "vscode": {
     "languageId": "python"
    }
   },
   "outputs": [
    {
     "data": {
      "image/png": "[encoded data removed]",
      "text/plain": [
       "<Figure size 640x480 with 1 Axes>"
      ]
     },
     "metadata": {},
     "output_type": "display_data"
    }
   ],
   "source": [
    "for fitmodel in fit_models:\n",
    "    fitmodel.plot_roc_curve(X_test, y_test, ax=plt.gca())"
   ]
  },
  {
   "attachments": {},
   "cell_type": "markdown",
   "metadata": {},
   "source": [
    "The calibration measures the accuracy of the probability values returned by the model. A well calibrated model will return probability values that are close to the true probability of the event. In this case each of the models are pretty well calibrated. "
   ]
  },
  {
   "cell_type": "code",
   "execution_count": null,
   "metadata": {
    "vscode": {
     "languageId": "python"
    }
   },
   "outputs": [
    {
     "data": {
      "image/png": "[encoded data removed]",
      "text/plain": [
       "<Figure size 640x480 with 1 Axes>"
      ]
     },
     "metadata": {},
     "output_type": "display_data"
    }
   ],
   "source": [
    "for model in fit_models:\n",
    "    model.plot_calibration_curve(X_test, y_test, ax=plt.gca())\n"
   ]
  },
  {
   "attachments": {},
   "cell_type": "markdown",
   "metadata": {},
   "source": [
    "Finally we can look at the cross validated accuracy scores for each model. I applied a five-fold cross validation to each model. One important component to note is the small standard deviation in the accuracy scores. This indicates that the models are not overfitting the data."
   ]
  },
  {
   "cell_type": "code",
   "execution_count": null,
   "metadata": {
    "vscode": {
     "languageId": "python"
    }
   },
   "outputs": [
    {
     "data": {
      "image/png": "[encoded data removed]",
      "text/plain": [
       "<Figure size 640x480 with 1 Axes>"
      ]
     },
     "metadata": {},
     "output_type": "display_data"
    }
   ],
   "source": [
    "# Cross validation scores\n",
    "\n",
    "df_cv = pd.DataFrame([{'model': model.modelcand.name, 'cv_score': score} for model in fit_models for score in model.cv_scores])\n",
    "\n",
    "ax = plt.gca()\n",
    "sns.barplot(data=df_cv, x='model', y='cv_score', ax=ax)\n",
    "ax.set_title(\"5-fold Cross Validation Scores\")\n",
    "ax.set_ylabel(\"Accuracy\")\n",
    "ax.set_xlabel(\"Model\");\n"
   ]
  },
  {
   "attachments": {},
   "cell_type": "markdown",
   "metadata": {},
   "source": [
    "## Test Sets\n",
    "\n",
    "As a final evaluation, we will test the models on a set of test data that was not used in training or validation. I downloaded a malware pcap not used in the training and some benign pcaps. The below shows the percentage of flows that were correctly classified as malware or benign."
   ]
  },
  {
   "cell_type": "code",
   "execution_count": null,
   "metadata": {
    "vscode": {
     "languageId": "python"
    }
   },
   "outputs": [],
   "source": [
    "#| export \n",
    "\n",
    "def test_eval(malware: bool = True) -> pd.DataFrame:\n",
    "    TPATH = DATA_PATH / 'test/malware' if malware else DATA_PATH / 'test/benign'\n",
    "    test_type = 'malware' if malware else 'benign'\n",
    "    test_files = list(TPATH.glob('**/*.pcap'))\n",
    "    Xt = pd.concat([collect_flow_stats(f) for f in test_files], axis=0)\n",
    "    model_names = [] \n",
    "    accuracy_scores = [] \n",
    "    for m in fit_models:\n",
    "        model = m.modelcand.model\n",
    "        y_true = np.ones(Xt.shape[0]) if malware else np.zeros(Xt.shape[0])\n",
    "        accuracy = 1.0 - np.abs(model.predict(Xt) - y_true).sum() / Xt.shape[0]\n",
    "        print(f\"Model {m.modelcand.name} has accuracy {accuracy:.2f} on {test_type} test data flows\")\n",
    "        model_names.append(m.modelcand.name)\n",
    "        accuracy_scores.append(accuracy) \n",
    "    return pd.DataFrame({'model': model_names, 'accuracy': accuracy_scores, 'test_type': [test_type] * len(model_names) })\n",
    "     "
   ]
  },
  {
   "cell_type": "code",
   "execution_count": null,
   "metadata": {
    "vscode": {
     "languageId": "python"
    }
   },
   "outputs": [
    {
     "name": "stdout",
     "output_type": "stream",
     "text": [
      "Model XGBoost has accuracy 0.98 on malware test data flows\n",
      "Model Random Forest has accuracy 0.96 on malware test data flows\n",
      "Model KNN-3 has accuracy 0.91 on malware test data flows\n",
      "Model KNN-5 has accuracy 0.92 on malware test data flows\n",
      "Model SVM has accuracy 0.87 on malware test data flows\n",
      "Model Logistic Regression has accuracy 0.89 on malware test data flows\n",
      "-----------------\n",
      "Model XGBoost has accuracy 0.94 on benign test data flows\n",
      "Model Random Forest has accuracy 0.94 on benign test data flows\n",
      "Model KNN-3 has accuracy 0.72 on benign test data flows\n",
      "Model KNN-5 has accuracy 0.68 on benign test data flows\n",
      "Model SVM has accuracy 0.67 on benign test data flows\n",
      "Model Logistic Regression has accuracy 0.52 on benign test data flows\n"
     ]
    }
   ],
   "source": [
    "   \n",
    "df_malware = test_eval(malware=True)\n",
    "print(\"-----------------\")\n",
    "df_benign = test_eval(malware=False)\n",
    "    \n"
   ]
  },
  {
   "cell_type": "code",
   "execution_count": null,
   "metadata": {
    "vscode": {
     "languageId": "python"
    }
   },
   "outputs": [
    {
     "data": {
      "text/plain": [
       "Text(0.5, 1.0, 'Test Set Accuracy')"
      ]
     },
     "execution_count": null,
     "metadata": {},
     "output_type": "execute_result"
    },
    {
     "data": {
      "image/png": "[encoded data removed]",
      "text/plain": [
       "<Figure size 640x480 with 1 Axes>"
      ]
     },
     "metadata": {},
     "output_type": "display_data"
    }
   ],
   "source": [
    "df_test = pd.concat([df_malware, df_benign], axis=0)\n",
    "ax=plt.gca()\n",
    "sns.barplot(data=df_test, x='test_type', y='accuracy', hue='model', ax=ax)\n",
    "sns.move_legend(ax, \"upper left\", bbox_to_anchor=(1, 1))\n",
    "ax.set_title(\"Test Set Accuracy: Per Flow Classification\")"
   ]
  },
  {
   "cell_type": "code",
   "execution_count": null,
   "metadata": {
    "vscode": {
     "languageId": "python"
    }
   },
   "outputs": [
    {
     "data": {
      "text/html": [
       "<div>\n",
       "<style scoped>\n",
       "    .dataframe tbody tr th:only-of-type {\n",
       "        vertical-align: middle;\n",
       "    }\n",
       "\n",
       "    .dataframe tbody tr th {\n",
       "        vertical-align: top;\n",
       "    }\n",
       "\n",
       "    .dataframe thead th {\n",
       "        text-align: right;\n",
       "    }\n",
       "</style>\n",
       "<table border=\"1\" class=\"dataframe\">\n",
       "  <thead>\n",
       "    <tr style=\"text-align: right;\">\n",
       "      <th></th>\n",
       "      <th>model</th>\n",
       "      <th>accuracy</th>\n",
       "      <th>test_type</th>\n",
       "    </tr>\n",
       "  </thead>\n",
       "  <tbody>\n",
       "    <tr>\n",
       "      <th>0</th>\n",
       "      <td>XGBoost</td>\n",
       "      <td>0.885246</td>\n",
       "      <td>malware</td>\n",
       "    </tr>\n",
       "    <tr>\n",
       "      <th>1</th>\n",
       "      <td>Random Forest</td>\n",
       "      <td>0.885246</td>\n",
       "      <td>malware</td>\n",
       "    </tr>\n",
       "    <tr>\n",
       "      <th>2</th>\n",
       "      <td>KNN-3</td>\n",
       "      <td>0.885246</td>\n",
       "      <td>malware</td>\n",
       "    </tr>\n",
       "    <tr>\n",
       "      <th>3</th>\n",
       "      <td>KNN-5</td>\n",
       "      <td>0.885246</td>\n",
       "      <td>malware</td>\n",
       "    </tr>\n",
       "    <tr>\n",
       "      <th>4</th>\n",
       "      <td>SVM</td>\n",
       "      <td>0.885246</td>\n",
       "      <td>malware</td>\n",
       "    </tr>\n",
       "  </tbody>\n",
       "</table>\n",
       "</div>"
      ],
      "text/plain": [
       "           model  accuracy test_type\n",
       "0        XGBoost  0.885246   malware\n",
       "1  Random Forest  0.885246   malware\n",
       "2          KNN-3  0.885246   malware\n",
       "3          KNN-5  0.885246   malware\n",
       "4            SVM  0.885246   malware"
      ]
     },
     "execution_count": null,
     "metadata": {},
     "output_type": "execute_result"
    }
   ],
   "source": [
    "df_malware.head()"
   ]
  },
  {
   "cell_type": "code",
   "execution_count": null,
   "metadata": {
    "vscode": {
     "languageId": "python"
    }
   },
   "outputs": [],
   "source": [
    "#| hide\n",
    "\n",
    "import nbdev; nbdev.nbdev_export()"
   ]
  }
 ],
 "metadata": {
  "kernelspec": {
   "display_name": "python3",
   "language": "python",
   "name": "python3"
  }
 },
 "nbformat": 4,
 "nbformat_minor": 4
}
